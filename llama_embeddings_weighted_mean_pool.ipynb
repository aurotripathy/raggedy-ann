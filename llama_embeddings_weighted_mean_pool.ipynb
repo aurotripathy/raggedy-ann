{
 "cells": [
  {
   "cell_type": "markdown",
   "metadata": {
    "colab_type": "text",
    "id": "view-in-github"
   },
   "source": [
    "<a href=\"https://colab.research.google.com/github/aurotripathy/raggedy-ann/blob/main/llama_embeddings.ipynb\" target=\"_parent\"><img src=\"https://colab.research.google.com/assets/colab-badge.svg\" alt=\"Open In Colab\"/></a>"
   ]
  },
  {
   "cell_type": "markdown",
   "metadata": {},
   "source": [
    "#### LLama Embeddings from Weighted Mean-Pooling\n",
    "Why not use LLama for generating embeddings?\\\n",
    "Decoder-only LLM-based embedding models are beginning to outperform \\\n",
    "BERT or T5-based embedding models in general-purpose text embedding tasks, \\\n",
    "including dense vector-based retrieval.\\\n",
    "This is in lieu of an embeddings model trained to generate embeddings.\\\n",
    "The weighted mean-pooling based embeddings idea is from:\\\n",
    "https://stackoverflow.com/questions/76926025/sentence-embeddings-from-llama-2-huggingface-opensource"
   ]
  },
  {
   "cell_type": "code",
   "execution_count": 1,
   "metadata": {
    "colab": {
     "base_uri": "https://localhost:8080/"
    },
    "id": "3xDEYWmP-Fv_",
    "outputId": "b030890f-602b-4801-e6d9-901b9ae73780"
   },
   "outputs": [
    {
     "name": "stdout",
     "output_type": "stream",
     "text": [
      "Note: you may need to restart the kernel to use updated packages.\n"
     ]
    }
   ],
   "source": [
    "# The installs are silent and may take some time\n",
    "!pip install --upgrade -q transformers\n",
    "!pip install -q torch --index-url https://download.pytorch.org/whl/cu121/\n",
    "!python -m pip install -q huggingface_hub\n",
    "%pip install -q accelerate>=0.26.0\n",
    "!pip install -U -q scikit-learn"
   ]
  },
  {
   "cell_type": "code",
   "execution_count": 2,
   "metadata": {
    "colab": {
     "base_uri": "https://localhost:8080/"
    },
    "id": "TLt0NNGRKxhY",
    "outputId": "f0abb8b1-e526-48b6-a72d-4971a9cc1b7b"
   },
   "outputs": [
    {
     "data": {
      "application/vnd.jupyter.widget-view+json": {
       "model_id": "d6083745dd1c40138342dacc6e52db0f",
       "version_major": 2,
       "version_minor": 0
      },
      "text/plain": [
       "VBox(children=(HTML(value='<center> <img\\nsrc=https://huggingface.co/front/assets/huggingface_logo-noborder.sv…"
      ]
     },
     "metadata": {},
     "output_type": "display_data"
    }
   ],
   "source": [
    "# Get your HF token from https://huggingface.co/settings/tokens\n",
    "from huggingface_hub import notebook_login\n",
    "notebook_login()"
   ]
  },
  {
   "cell_type": "code",
   "execution_count": 3,
   "metadata": {},
   "outputs": [
    {
     "name": "stdout",
     "output_type": "stream",
     "text": [
      "2.4.1+cu121\n"
     ]
    }
   ],
   "source": [
    "import torch\n",
    "print(torch.__version__)"
   ]
  },
  {
   "cell_type": "code",
   "execution_count": 5,
   "metadata": {
    "colab": {
     "base_uri": "https://localhost:8080/",
     "height": 49,
     "referenced_widgets": [
      "c1f2e3f893a64ccea359d35365946d84",
      "30a6e8f9b226442f98fdc7e5a3868999",
      "15d18914c500479583c33c6403a0101c",
      "40c1ddf9d277425181f7f635ea7967d8",
      "9db39b952bde4956a67730e08a744d76",
      "dff5d3d9aa7a4237b14049f6b223ac0e",
      "de3f4cf10c3e4c8bb201bf1f37ba9773",
      "98713907574e42aa8e14c5a5dfc65c8a",
      "f41b770cd9764cc186ff6e4c42bb8758",
      "1b20c3d1dcd4463ca788edce4678c288",
      "5acc0018a3f84ea890ed81d5f498e474"
     ]
    },
    "id": "PvQ6hzOK-Z9h",
    "outputId": "96fc6547-dcf8-4bf4-bdc4-818cba8d4195"
   },
   "outputs": [
    {
     "data": {
      "application/vnd.jupyter.widget-view+json": {
       "model_id": "72f8be1f11724c5bb374bf969c60e928",
       "version_major": 2,
       "version_minor": 0
      },
      "text/plain": [
       "tokenizer_config.json:   0%|          | 0.00/50.5k [00:00<?, ?B/s]"
      ]
     },
     "metadata": {},
     "output_type": "display_data"
    },
    {
     "data": {
      "application/vnd.jupyter.widget-view+json": {
       "model_id": "8b1635ced69b49b4b70f889d80fb752a",
       "version_major": 2,
       "version_minor": 0
      },
      "text/plain": [
       "tokenizer.json:   0%|          | 0.00/9.09M [00:00<?, ?B/s]"
      ]
     },
     "metadata": {},
     "output_type": "display_data"
    },
    {
     "data": {
      "application/vnd.jupyter.widget-view+json": {
       "model_id": "f6d825213787473ea971bcf484f880fa",
       "version_major": 2,
       "version_minor": 0
      },
      "text/plain": [
       "special_tokens_map.json:   0%|          | 0.00/73.0 [00:00<?, ?B/s]"
      ]
     },
     "metadata": {},
     "output_type": "display_data"
    },
    {
     "data": {
      "application/vnd.jupyter.widget-view+json": {
       "model_id": "893cdd1e9d7445268f8c5952f77cfe5b",
       "version_major": 2,
       "version_minor": 0
      },
      "text/plain": [
       "config.json:   0%|          | 0.00/826 [00:00<?, ?B/s]"
      ]
     },
     "metadata": {},
     "output_type": "display_data"
    },
    {
     "data": {
      "application/vnd.jupyter.widget-view+json": {
       "model_id": "e4a5dfb331a84f4da0deab54e6fc12ff",
       "version_major": 2,
       "version_minor": 0
      },
      "text/plain": [
       "model.safetensors.index.json:   0%|          | 0.00/23.9k [00:00<?, ?B/s]"
      ]
     },
     "metadata": {},
     "output_type": "display_data"
    },
    {
     "data": {
      "application/vnd.jupyter.widget-view+json": {
       "model_id": "8309cb0ccd884c5e896bc94c02f4b330",
       "version_major": 2,
       "version_minor": 0
      },
      "text/plain": [
       "Downloading shards:   0%|          | 0/4 [00:00<?, ?it/s]"
      ]
     },
     "metadata": {},
     "output_type": "display_data"
    },
    {
     "data": {
      "application/vnd.jupyter.widget-view+json": {
       "model_id": "09f3a81c96ee468f876123d30370942e",
       "version_major": 2,
       "version_minor": 0
      },
      "text/plain": [
       "model-00001-of-00004.safetensors:   0%|          | 0.00/4.98G [00:00<?, ?B/s]"
      ]
     },
     "metadata": {},
     "output_type": "display_data"
    },
    {
     "data": {
      "application/vnd.jupyter.widget-view+json": {
       "model_id": "da601b1d820b400abd9b5ca61e093719",
       "version_major": 2,
       "version_minor": 0
      },
      "text/plain": [
       "model-00002-of-00004.safetensors:   0%|          | 0.00/5.00G [00:00<?, ?B/s]"
      ]
     },
     "metadata": {},
     "output_type": "display_data"
    },
    {
     "data": {
      "application/vnd.jupyter.widget-view+json": {
       "model_id": "7c6c4e9a97594d1c908c3a2b261c2c4b",
       "version_major": 2,
       "version_minor": 0
      },
      "text/plain": [
       "model-00003-of-00004.safetensors:   0%|          | 0.00/4.92G [00:00<?, ?B/s]"
      ]
     },
     "metadata": {},
     "output_type": "display_data"
    },
    {
     "data": {
      "application/vnd.jupyter.widget-view+json": {
       "model_id": "36d5bd4ea84d4d8ba6c73daa9fed77b7",
       "version_major": 2,
       "version_minor": 0
      },
      "text/plain": [
       "model-00004-of-00004.safetensors:   0%|          | 0.00/1.17G [00:00<?, ?B/s]"
      ]
     },
     "metadata": {},
     "output_type": "display_data"
    },
    {
     "data": {
      "application/vnd.jupyter.widget-view+json": {
       "model_id": "2ac6e749869a4f5dbaffe9aeabdc892e",
       "version_major": 2,
       "version_minor": 0
      },
      "text/plain": [
       "Loading checkpoint shards:   0%|          | 0/4 [00:00<?, ?it/s]"
      ]
     },
     "metadata": {},
     "output_type": "display_data"
    }
   ],
   "source": [
    "import transformers\n",
    "from transformers import AutoTokenizer, AutoModel\n",
    "import torch\n",
    "\n",
    "model_id = \"meta-llama/Meta-Llama-3.1-8B\"\n",
    "tokenizer = AutoTokenizer.from_pretrained(model_id)\n",
    "tokenizer.pad_token = tokenizer.eos_token\n",
    "model = AutoModel.from_pretrained(model_id, torch_dtype=torch.bfloat16, device_map=\"cuda\")"
   ]
  },
  {
   "cell_type": "code",
   "execution_count": 6,
   "metadata": {},
   "outputs": [
    {
     "data": {
      "application/vnd.jupyter.widget-view+json": {
       "model_id": "00c1bb32f5424695b9cbfdf8ac11ff85",
       "version_major": 2,
       "version_minor": 0
      },
      "text/plain": [
       "Loading checkpoint shards:   0%|          | 0/4 [00:00<?, ?it/s]"
      ]
     },
     "metadata": {},
     "output_type": "display_data"
    },
    {
     "data": {
      "application/vnd.jupyter.widget-view+json": {
       "model_id": "3d72b8faf4ed40c385b09585610d45f1",
       "version_major": 2,
       "version_minor": 0
      },
      "text/plain": [
       "generation_config.json:   0%|          | 0.00/185 [00:00<?, ?B/s]"
      ]
     },
     "metadata": {},
     "output_type": "display_data"
    },
    {
     "name": "stderr",
     "output_type": "stream",
     "text": [
      "Setting `pad_token_id` to `eos_token_id`:None for open-end generation.\n",
      "/opt/vast-jupyter/lib/python3.10/site-packages/transformers/generation/utils.py:1220: UserWarning: Using the model-agnostic default `max_length` (=20) to control the generation length. We recommend setting `max_new_tokens` to control the maximum length of the generation.\n",
      "  warnings.warn(\n",
      "Starting from v4.46, the `logits` model output will have the same type as the model (except at train time, where it will always be FP32)\n"
     ]
    },
    {
     "data": {
      "text/plain": [
       "[{'generated_text': 'Hey how are you doing today? I’m good. I’m doing well. I’m excited'}]"
      ]
     },
     "execution_count": 6,
     "metadata": {},
     "output_type": "execute_result"
    }
   ],
   "source": [
    "# generate something to test\n",
    "pipeline = transformers.pipeline(\n",
    "    \"text-generation\", model=model_id, model_kwargs={\"torch_dtype\": torch.bfloat16}, device_map=\"cuda:0\"\n",
    ")\n",
    "pipeline(\"Hey how are you doing today?\")"
   ]
  },
  {
   "cell_type": "code",
   "execution_count": 9,
   "metadata": {
    "colab": {
     "base_uri": "https://localhost:8080/"
    },
    "id": "iD9JAegeeKQ2",
    "outputId": "ae139407-f765-4846-d710-18bb1675704c"
   },
   "outputs": [
    {
     "name": "stdout",
     "output_type": "stream",
     "text": [
      "GPU mem allocated (GB): 31.088142848 memory\n"
     ]
    }
   ],
   "source": [
    "print(f\"GPU mem allocated (GB): {torch.cuda.max_memory_allocated(device=None)/ 1000**3} memory\")"
   ]
  },
  {
   "cell_type": "code",
   "execution_count": 10,
   "metadata": {
    "colab": {
     "base_uri": "https://localhost:8080/"
    },
    "id": "10qyq5oVAUdF",
    "outputId": "fb59c1f6-e9b6-4bbe-cf2e-ac21a5073a30"
   },
   "outputs": [],
   "source": [
    "import numpy as np\n",
    "def get_weighted_mean_pooled_embeddings(text):\n",
    "    inputs = tokenizer(text, padding=True, return_tensors=\"pt\")\n",
    "    cuda_inputs = inputs.to(\"cuda\")\n",
    "    \n",
    "    # with torch.no_grad():\n",
    "    #     embeddings = model(**inputs).last_hidden_state\n",
    "        \n",
    "    # alternate way to ge the embeddings\n",
    "    with torch.no_grad():\n",
    "        last_hidden_state = model(**cuda_inputs, output_hidden_states=True).hidden_states[-1]\n",
    "    print(f'last_hidden_state:\\n{last_hidden_state}')\n",
    "    print(f'size: {last_hidden_state.size()}')\n",
    "    \n",
    "    # assert torch.equal(embeddings, last_hidden_state)\n",
    "\n",
    "    last_hidden_state = last_hidden_state.to(\"cpu\").float()\n",
    "    print(f'cpu last hidden state:\\n{last_hidden_state}')\n",
    "    \n",
    "    weights_for_non_padding = inputs.attention_mask.to(\"cpu\") * torch.arange(start=1, end=last_hidden_state.shape[1] + 1).unsqueeze(0)\n",
    "    print(f'padding token weights:\\n{weights_for_non_padding}')\n",
    "\n",
    "    sum_embeddings = torch.sum(last_hidden_state * weights_for_non_padding.unsqueeze(-1), dim=1)\n",
    "    num_of_none_padding_tokens = torch.sum(weights_for_non_padding, dim=-1).unsqueeze(-1)\n",
    "    sentence_embeddings = sum_embeddings / num_of_none_padding_tokens\n",
    "    \n",
    "    print(f'sentence embedding size: {sentence_embeddings.size()}')\n",
    "    return sentence_embeddings.mean(dim=0).squeeze().numpy()"
   ]
  },
  {
   "cell_type": "code",
   "execution_count": 11,
   "metadata": {},
   "outputs": [
    {
     "name": "stdout",
     "output_type": "stream",
     "text": [
      "last_hidden_state:\n",
      "tensor([[[ 1.6484,  2.4219,  0.7773,  ..., -1.6953,  1.7656,  2.8594],\n",
      "         [-0.2168, -0.2812, -2.0156,  ..., -1.4531, -2.4375, -1.3438],\n",
      "         [-2.5469,  1.8828,  3.0000,  ...,  2.3281,  0.5938,  0.9297],\n",
      "         ...,\n",
      "         [-1.0781, -0.5469,  0.2275,  ...,  1.3984, -4.3438, -0.1680],\n",
      "         [-1.7422, -1.1797,  2.4375,  ...,  1.3594, -4.2500,  0.3027],\n",
      "         [-1.3828, -2.2500,  0.3984,  ...,  1.3047, -1.1484,  2.2969]]],\n",
      "       device='cuda:0', dtype=torch.bfloat16)\n",
      "size: torch.Size([1, 8, 4096])\n",
      "cpu last hidden state:\n",
      "tensor([[[ 1.6484,  2.4219,  0.7773,  ..., -1.6953,  1.7656,  2.8594],\n",
      "         [-0.2168, -0.2812, -2.0156,  ..., -1.4531, -2.4375, -1.3438],\n",
      "         [-2.5469,  1.8828,  3.0000,  ...,  2.3281,  0.5938,  0.9297],\n",
      "         ...,\n",
      "         [-1.0781, -0.5469,  0.2275,  ...,  1.3984, -4.3438, -0.1680],\n",
      "         [-1.7422, -1.1797,  2.4375,  ...,  1.3594, -4.2500,  0.3027],\n",
      "         [-1.3828, -2.2500,  0.3984,  ...,  1.3047, -1.1484,  2.2969]]])\n",
      "padding token weights:\n",
      "tensor([[1, 2, 3, 4, 5, 6, 7, 8]])\n",
      "sentence embedding size: torch.Size([1, 4096])\n",
      "last_hidden_state:\n",
      "tensor([[[ 1.6484,  2.4219,  0.7773,  ..., -1.6953,  1.7656,  2.8594],\n",
      "         [ 0.0366, -0.0588, -4.6250,  ..., -1.3438, -0.0776,  2.3438],\n",
      "         [ 0.1250, -3.3281,  6.2500,  ..., -1.4531, -0.6758, -1.3359],\n",
      "         ...,\n",
      "         [-2.0938,  1.9297,  0.8750,  ...,  2.1406, -2.9375, -0.1011],\n",
      "         [-0.8984,  0.2949,  0.8047,  ...,  1.9297, -3.5938,  1.0391],\n",
      "         [-1.9219, -1.4844, -2.7188,  ...,  0.7500,  1.1406,  1.0000]]],\n",
      "       device='cuda:0', dtype=torch.bfloat16)\n",
      "size: torch.Size([1, 10, 4096])\n",
      "cpu last hidden state:\n",
      "tensor([[[ 1.6484,  2.4219,  0.7773,  ..., -1.6953,  1.7656,  2.8594],\n",
      "         [ 0.0366, -0.0588, -4.6250,  ..., -1.3438, -0.0776,  2.3438],\n",
      "         [ 0.1250, -3.3281,  6.2500,  ..., -1.4531, -0.6758, -1.3359],\n",
      "         ...,\n",
      "         [-2.0938,  1.9297,  0.8750,  ...,  2.1406, -2.9375, -0.1011],\n",
      "         [-0.8984,  0.2949,  0.8047,  ...,  1.9297, -3.5938,  1.0391],\n",
      "         [-1.9219, -1.4844, -2.7188,  ...,  0.7500,  1.1406,  1.0000]]])\n",
      "padding token weights:\n",
      "tensor([[ 1,  2,  3,  4,  5,  6,  7,  8,  9, 10]])\n",
      "sentence embedding size: torch.Size([1, 4096])\n",
      "last_hidden_state:\n",
      "tensor([[[ 1.6484,  2.4219,  0.7773,  ..., -1.6953,  1.7656,  2.8594],\n",
      "         [-0.2168, -0.2812, -2.0156,  ..., -1.4531, -2.4375, -1.3438],\n",
      "         [-2.5469,  1.8828,  3.0000,  ...,  2.3281,  0.5938,  0.9297],\n",
      "         ...,\n",
      "         [-1.0781, -0.5469,  0.2275,  ...,  1.3984, -4.3438, -0.1680],\n",
      "         [-1.7422, -1.1797,  2.4375,  ...,  1.3594, -4.2500,  0.3027],\n",
      "         [-1.3828, -2.2500,  0.3984,  ...,  1.3047, -1.1484,  2.2969]]],\n",
      "       device='cuda:0', dtype=torch.bfloat16)\n",
      "size: torch.Size([1, 8, 4096])\n",
      "cpu last hidden state:\n",
      "tensor([[[ 1.6484,  2.4219,  0.7773,  ..., -1.6953,  1.7656,  2.8594],\n",
      "         [-0.2168, -0.2812, -2.0156,  ..., -1.4531, -2.4375, -1.3438],\n",
      "         [-2.5469,  1.8828,  3.0000,  ...,  2.3281,  0.5938,  0.9297],\n",
      "         ...,\n",
      "         [-1.0781, -0.5469,  0.2275,  ...,  1.3984, -4.3438, -0.1680],\n",
      "         [-1.7422, -1.1797,  2.4375,  ...,  1.3594, -4.2500,  0.3027],\n",
      "         [-1.3828, -2.2500,  0.3984,  ...,  1.3047, -1.1484,  2.2969]]])\n",
      "padding token weights:\n",
      "tensor([[1, 2, 3, 4, 5, 6, 7, 8]])\n",
      "sentence embedding size: torch.Size([1, 4096])\n",
      "(4096,)\n",
      "(4096,)\n",
      "(4096,)\n"
     ]
    }
   ],
   "source": [
    "texts = [\"Hey how are you doing today?\", \"The weather was great in San Francisco yesterday.\", \"Hey how are you doing today?\"]\n",
    "sentence_embeddings_list = []\n",
    "for text in texts:\n",
    "    sentence_embeddings_list.append(get_weighted_mean_pooled_embeddings(text))\n",
    "for sentence_embeddings in sentence_embeddings_list:\n",
    "    print(sentence_embeddings.shape)"
   ]
  },
  {
   "cell_type": "code",
   "execution_count": 12,
   "metadata": {
    "id": "iX7DWy4TeS6P"
   },
   "outputs": [],
   "source": [
    "import numpy as np\n",
    "from sklearn.metrics.pairwise import cosine_similarity"
   ]
  },
  {
   "cell_type": "code",
   "execution_count": 14,
   "metadata": {},
   "outputs": [
    {
     "name": "stdout",
     "output_type": "stream",
     "text": [
      "[[0.54188967]]\n",
      "[[1.0000005]]\n"
     ]
    }
   ],
   "source": [
    "# # Calculate cosine similarity\n",
    "similarity = cosine_similarity(sentence_embeddings_list[0].reshape(1,-1), sentence_embeddings_list[1].reshape(1,-1))\n",
    "print(similarity)\n",
    "similarity = cosine_similarity(sentence_embeddings_list[0].reshape(1,-1), sentence_embeddings_list[2].reshape(1,-1))\n",
    "print(similarity)"
   ]
  },
  {
   "cell_type": "code",
   "execution_count": null,
   "metadata": {},
   "outputs": [],
   "source": []
  }
 ],
 "metadata": {
  "accelerator": "GPU",
  "colab": {
   "authorship_tag": "ABX9TyM/6nCDU6jdCItfGiL+0bqI",
   "gpuType": "A100",
   "include_colab_link": true,
   "machine_shape": "hm",
   "provenance": []
  },
  "kernelspec": {
   "display_name": "Python 3 (ipykernel)",
   "language": "python",
   "name": "python3"
  },
  "language_info": {
   "codemirror_mode": {
    "name": "ipython",
    "version": 3
   },
   "file_extension": ".py",
   "mimetype": "text/x-python",
   "name": "python",
   "nbconvert_exporter": "python",
   "pygments_lexer": "ipython3",
   "version": "3.10.12"
  },
  "widgets": {
   "application/vnd.jupyter.widget-state+json": {
    "1266c08d338d47da85c926fa47df0eaa": {
     "model_module": "@jupyter-widgets/controls",
     "model_module_version": "1.5.0",
     "model_name": "HBoxModel",
     "state": {
      "_dom_classes": [],
      "_model_module": "@jupyter-widgets/controls",
      "_model_module_version": "1.5.0",
      "_model_name": "HBoxModel",
      "_view_count": null,
      "_view_module": "@jupyter-widgets/controls",
      "_view_module_version": "1.5.0",
      "_view_name": "HBoxView",
      "box_style": "",
      "children": [
       "IPY_MODEL_9826a1b54ba645faaa2b2fc29b62b20c",
       "IPY_MODEL_b3c49399538240e5ba1d95a50c66eaa4",
       "IPY_MODEL_6718c793f86a432eb0bea03f7c2b0522"
      ],
      "layout": "IPY_MODEL_fe5d928c5c21485b9473729ef0b4616d"
     }
    },
    "126ae27e30ad4c81a15160db0a19eb97": {
     "model_module": "@jupyter-widgets/base",
     "model_module_version": "1.2.0",
     "model_name": "LayoutModel",
     "state": {
      "_model_module": "@jupyter-widgets/base",
      "_model_module_version": "1.2.0",
      "_model_name": "LayoutModel",
      "_view_count": null,
      "_view_module": "@jupyter-widgets/base",
      "_view_module_version": "1.2.0",
      "_view_name": "LayoutView",
      "align_content": null,
      "align_items": null,
      "align_self": null,
      "border": null,
      "bottom": null,
      "display": null,
      "flex": null,
      "flex_flow": null,
      "grid_area": null,
      "grid_auto_columns": null,
      "grid_auto_flow": null,
      "grid_auto_rows": null,
      "grid_column": null,
      "grid_gap": null,
      "grid_row": null,
      "grid_template_areas": null,
      "grid_template_columns": null,
      "grid_template_rows": null,
      "height": null,
      "justify_content": null,
      "justify_items": null,
      "left": null,
      "margin": null,
      "max_height": null,
      "max_width": null,
      "min_height": null,
      "min_width": null,
      "object_fit": null,
      "object_position": null,
      "order": null,
      "overflow": null,
      "overflow_x": null,
      "overflow_y": null,
      "padding": null,
      "right": null,
      "top": null,
      "visibility": null,
      "width": null
     }
    },
    "15d18914c500479583c33c6403a0101c": {
     "model_module": "@jupyter-widgets/controls",
     "model_module_version": "1.5.0",
     "model_name": "FloatProgressModel",
     "state": {
      "_dom_classes": [],
      "_model_module": "@jupyter-widgets/controls",
      "_model_module_version": "1.5.0",
      "_model_name": "FloatProgressModel",
      "_view_count": null,
      "_view_module": "@jupyter-widgets/controls",
      "_view_module_version": "1.5.0",
      "_view_name": "ProgressView",
      "bar_style": "success",
      "description": "",
      "description_tooltip": null,
      "layout": "IPY_MODEL_98713907574e42aa8e14c5a5dfc65c8a",
      "max": 4,
      "min": 0,
      "orientation": "horizontal",
      "style": "IPY_MODEL_f41b770cd9764cc186ff6e4c42bb8758",
      "value": 4
     }
    },
    "1b20c3d1dcd4463ca788edce4678c288": {
     "model_module": "@jupyter-widgets/base",
     "model_module_version": "1.2.0",
     "model_name": "LayoutModel",
     "state": {
      "_model_module": "@jupyter-widgets/base",
      "_model_module_version": "1.2.0",
      "_model_name": "LayoutModel",
      "_view_count": null,
      "_view_module": "@jupyter-widgets/base",
      "_view_module_version": "1.2.0",
      "_view_name": "LayoutView",
      "align_content": null,
      "align_items": null,
      "align_self": null,
      "border": null,
      "bottom": null,
      "display": null,
      "flex": null,
      "flex_flow": null,
      "grid_area": null,
      "grid_auto_columns": null,
      "grid_auto_flow": null,
      "grid_auto_rows": null,
      "grid_column": null,
      "grid_gap": null,
      "grid_row": null,
      "grid_template_areas": null,
      "grid_template_columns": null,
      "grid_template_rows": null,
      "height": null,
      "justify_content": null,
      "justify_items": null,
      "left": null,
      "margin": null,
      "max_height": null,
      "max_width": null,
      "min_height": null,
      "min_width": null,
      "object_fit": null,
      "object_position": null,
      "order": null,
      "overflow": null,
      "overflow_x": null,
      "overflow_y": null,
      "padding": null,
      "right": null,
      "top": null,
      "visibility": null,
      "width": null
     }
    },
    "30a6e8f9b226442f98fdc7e5a3868999": {
     "model_module": "@jupyter-widgets/controls",
     "model_module_version": "1.5.0",
     "model_name": "HTMLModel",
     "state": {
      "_dom_classes": [],
      "_model_module": "@jupyter-widgets/controls",
      "_model_module_version": "1.5.0",
      "_model_name": "HTMLModel",
      "_view_count": null,
      "_view_module": "@jupyter-widgets/controls",
      "_view_module_version": "1.5.0",
      "_view_name": "HTMLView",
      "description": "",
      "description_tooltip": null,
      "layout": "IPY_MODEL_dff5d3d9aa7a4237b14049f6b223ac0e",
      "placeholder": "​",
      "style": "IPY_MODEL_de3f4cf10c3e4c8bb201bf1f37ba9773",
      "value": "Loading checkpoint shards: 100%"
     }
    },
    "40c1ddf9d277425181f7f635ea7967d8": {
     "model_module": "@jupyter-widgets/controls",
     "model_module_version": "1.5.0",
     "model_name": "HTMLModel",
     "state": {
      "_dom_classes": [],
      "_model_module": "@jupyter-widgets/controls",
      "_model_module_version": "1.5.0",
      "_model_name": "HTMLModel",
      "_view_count": null,
      "_view_module": "@jupyter-widgets/controls",
      "_view_module_version": "1.5.0",
      "_view_name": "HTMLView",
      "description": "",
      "description_tooltip": null,
      "layout": "IPY_MODEL_1b20c3d1dcd4463ca788edce4678c288",
      "placeholder": "​",
      "style": "IPY_MODEL_5acc0018a3f84ea890ed81d5f498e474",
      "value": " 4/4 [00:05&lt;00:00,  1.15s/it]"
     }
    },
    "5acc0018a3f84ea890ed81d5f498e474": {
     "model_module": "@jupyter-widgets/controls",
     "model_module_version": "1.5.0",
     "model_name": "DescriptionStyleModel",
     "state": {
      "_model_module": "@jupyter-widgets/controls",
      "_model_module_version": "1.5.0",
      "_model_name": "DescriptionStyleModel",
      "_view_count": null,
      "_view_module": "@jupyter-widgets/base",
      "_view_module_version": "1.2.0",
      "_view_name": "StyleView",
      "description_width": ""
     }
    },
    "6718c793f86a432eb0bea03f7c2b0522": {
     "model_module": "@jupyter-widgets/controls",
     "model_module_version": "1.5.0",
     "model_name": "HTMLModel",
     "state": {
      "_dom_classes": [],
      "_model_module": "@jupyter-widgets/controls",
      "_model_module_version": "1.5.0",
      "_model_name": "HTMLModel",
      "_view_count": null,
      "_view_module": "@jupyter-widgets/controls",
      "_view_module_version": "1.5.0",
      "_view_name": "HTMLView",
      "description": "",
      "description_tooltip": null,
      "layout": "IPY_MODEL_126ae27e30ad4c81a15160db0a19eb97",
      "placeholder": "​",
      "style": "IPY_MODEL_cc658aa6b8fc471e818eaa001b5f2e6d",
      "value": " 4/4 [00:05&lt;00:00,  1.31s/it]"
     }
    },
    "9826a1b54ba645faaa2b2fc29b62b20c": {
     "model_module": "@jupyter-widgets/controls",
     "model_module_version": "1.5.0",
     "model_name": "HTMLModel",
     "state": {
      "_dom_classes": [],
      "_model_module": "@jupyter-widgets/controls",
      "_model_module_version": "1.5.0",
      "_model_name": "HTMLModel",
      "_view_count": null,
      "_view_module": "@jupyter-widgets/controls",
      "_view_module_version": "1.5.0",
      "_view_name": "HTMLView",
      "description": "",
      "description_tooltip": null,
      "layout": "IPY_MODEL_f4d7ef6a99e94640adfe36f6b05d0da3",
      "placeholder": "​",
      "style": "IPY_MODEL_ca07ff44f85d49579fc079f6df222016",
      "value": "Loading checkpoint shards: 100%"
     }
    },
    "98713907574e42aa8e14c5a5dfc65c8a": {
     "model_module": "@jupyter-widgets/base",
     "model_module_version": "1.2.0",
     "model_name": "LayoutModel",
     "state": {
      "_model_module": "@jupyter-widgets/base",
      "_model_module_version": "1.2.0",
      "_model_name": "LayoutModel",
      "_view_count": null,
      "_view_module": "@jupyter-widgets/base",
      "_view_module_version": "1.2.0",
      "_view_name": "LayoutView",
      "align_content": null,
      "align_items": null,
      "align_self": null,
      "border": null,
      "bottom": null,
      "display": null,
      "flex": null,
      "flex_flow": null,
      "grid_area": null,
      "grid_auto_columns": null,
      "grid_auto_flow": null,
      "grid_auto_rows": null,
      "grid_column": null,
      "grid_gap": null,
      "grid_row": null,
      "grid_template_areas": null,
      "grid_template_columns": null,
      "grid_template_rows": null,
      "height": null,
      "justify_content": null,
      "justify_items": null,
      "left": null,
      "margin": null,
      "max_height": null,
      "max_width": null,
      "min_height": null,
      "min_width": null,
      "object_fit": null,
      "object_position": null,
      "order": null,
      "overflow": null,
      "overflow_x": null,
      "overflow_y": null,
      "padding": null,
      "right": null,
      "top": null,
      "visibility": null,
      "width": null
     }
    },
    "9db39b952bde4956a67730e08a744d76": {
     "model_module": "@jupyter-widgets/base",
     "model_module_version": "1.2.0",
     "model_name": "LayoutModel",
     "state": {
      "_model_module": "@jupyter-widgets/base",
      "_model_module_version": "1.2.0",
      "_model_name": "LayoutModel",
      "_view_count": null,
      "_view_module": "@jupyter-widgets/base",
      "_view_module_version": "1.2.0",
      "_view_name": "LayoutView",
      "align_content": null,
      "align_items": null,
      "align_self": null,
      "border": null,
      "bottom": null,
      "display": null,
      "flex": null,
      "flex_flow": null,
      "grid_area": null,
      "grid_auto_columns": null,
      "grid_auto_flow": null,
      "grid_auto_rows": null,
      "grid_column": null,
      "grid_gap": null,
      "grid_row": null,
      "grid_template_areas": null,
      "grid_template_columns": null,
      "grid_template_rows": null,
      "height": null,
      "justify_content": null,
      "justify_items": null,
      "left": null,
      "margin": null,
      "max_height": null,
      "max_width": null,
      "min_height": null,
      "min_width": null,
      "object_fit": null,
      "object_position": null,
      "order": null,
      "overflow": null,
      "overflow_x": null,
      "overflow_y": null,
      "padding": null,
      "right": null,
      "top": null,
      "visibility": null,
      "width": null
     }
    },
    "b3c49399538240e5ba1d95a50c66eaa4": {
     "model_module": "@jupyter-widgets/controls",
     "model_module_version": "1.5.0",
     "model_name": "FloatProgressModel",
     "state": {
      "_dom_classes": [],
      "_model_module": "@jupyter-widgets/controls",
      "_model_module_version": "1.5.0",
      "_model_name": "FloatProgressModel",
      "_view_count": null,
      "_view_module": "@jupyter-widgets/controls",
      "_view_module_version": "1.5.0",
      "_view_name": "ProgressView",
      "bar_style": "success",
      "description": "",
      "description_tooltip": null,
      "layout": "IPY_MODEL_d21fc74e57e84681a71101ad6580cce7",
      "max": 4,
      "min": 0,
      "orientation": "horizontal",
      "style": "IPY_MODEL_f1f87226430e408e83d215d7ddbf5395",
      "value": 4
     }
    },
    "c1f2e3f893a64ccea359d35365946d84": {
     "model_module": "@jupyter-widgets/controls",
     "model_module_version": "1.5.0",
     "model_name": "HBoxModel",
     "state": {
      "_dom_classes": [],
      "_model_module": "@jupyter-widgets/controls",
      "_model_module_version": "1.5.0",
      "_model_name": "HBoxModel",
      "_view_count": null,
      "_view_module": "@jupyter-widgets/controls",
      "_view_module_version": "1.5.0",
      "_view_name": "HBoxView",
      "box_style": "",
      "children": [
       "IPY_MODEL_30a6e8f9b226442f98fdc7e5a3868999",
       "IPY_MODEL_15d18914c500479583c33c6403a0101c",
       "IPY_MODEL_40c1ddf9d277425181f7f635ea7967d8"
      ],
      "layout": "IPY_MODEL_9db39b952bde4956a67730e08a744d76"
     }
    },
    "ca07ff44f85d49579fc079f6df222016": {
     "model_module": "@jupyter-widgets/controls",
     "model_module_version": "1.5.0",
     "model_name": "DescriptionStyleModel",
     "state": {
      "_model_module": "@jupyter-widgets/controls",
      "_model_module_version": "1.5.0",
      "_model_name": "DescriptionStyleModel",
      "_view_count": null,
      "_view_module": "@jupyter-widgets/base",
      "_view_module_version": "1.2.0",
      "_view_name": "StyleView",
      "description_width": ""
     }
    },
    "cc658aa6b8fc471e818eaa001b5f2e6d": {
     "model_module": "@jupyter-widgets/controls",
     "model_module_version": "1.5.0",
     "model_name": "DescriptionStyleModel",
     "state": {
      "_model_module": "@jupyter-widgets/controls",
      "_model_module_version": "1.5.0",
      "_model_name": "DescriptionStyleModel",
      "_view_count": null,
      "_view_module": "@jupyter-widgets/base",
      "_view_module_version": "1.2.0",
      "_view_name": "StyleView",
      "description_width": ""
     }
    },
    "d21fc74e57e84681a71101ad6580cce7": {
     "model_module": "@jupyter-widgets/base",
     "model_module_version": "1.2.0",
     "model_name": "LayoutModel",
     "state": {
      "_model_module": "@jupyter-widgets/base",
      "_model_module_version": "1.2.0",
      "_model_name": "LayoutModel",
      "_view_count": null,
      "_view_module": "@jupyter-widgets/base",
      "_view_module_version": "1.2.0",
      "_view_name": "LayoutView",
      "align_content": null,
      "align_items": null,
      "align_self": null,
      "border": null,
      "bottom": null,
      "display": null,
      "flex": null,
      "flex_flow": null,
      "grid_area": null,
      "grid_auto_columns": null,
      "grid_auto_flow": null,
      "grid_auto_rows": null,
      "grid_column": null,
      "grid_gap": null,
      "grid_row": null,
      "grid_template_areas": null,
      "grid_template_columns": null,
      "grid_template_rows": null,
      "height": null,
      "justify_content": null,
      "justify_items": null,
      "left": null,
      "margin": null,
      "max_height": null,
      "max_width": null,
      "min_height": null,
      "min_width": null,
      "object_fit": null,
      "object_position": null,
      "order": null,
      "overflow": null,
      "overflow_x": null,
      "overflow_y": null,
      "padding": null,
      "right": null,
      "top": null,
      "visibility": null,
      "width": null
     }
    },
    "de3f4cf10c3e4c8bb201bf1f37ba9773": {
     "model_module": "@jupyter-widgets/controls",
     "model_module_version": "1.5.0",
     "model_name": "DescriptionStyleModel",
     "state": {
      "_model_module": "@jupyter-widgets/controls",
      "_model_module_version": "1.5.0",
      "_model_name": "DescriptionStyleModel",
      "_view_count": null,
      "_view_module": "@jupyter-widgets/base",
      "_view_module_version": "1.2.0",
      "_view_name": "StyleView",
      "description_width": ""
     }
    },
    "dff5d3d9aa7a4237b14049f6b223ac0e": {
     "model_module": "@jupyter-widgets/base",
     "model_module_version": "1.2.0",
     "model_name": "LayoutModel",
     "state": {
      "_model_module": "@jupyter-widgets/base",
      "_model_module_version": "1.2.0",
      "_model_name": "LayoutModel",
      "_view_count": null,
      "_view_module": "@jupyter-widgets/base",
      "_view_module_version": "1.2.0",
      "_view_name": "LayoutView",
      "align_content": null,
      "align_items": null,
      "align_self": null,
      "border": null,
      "bottom": null,
      "display": null,
      "flex": null,
      "flex_flow": null,
      "grid_area": null,
      "grid_auto_columns": null,
      "grid_auto_flow": null,
      "grid_auto_rows": null,
      "grid_column": null,
      "grid_gap": null,
      "grid_row": null,
      "grid_template_areas": null,
      "grid_template_columns": null,
      "grid_template_rows": null,
      "height": null,
      "justify_content": null,
      "justify_items": null,
      "left": null,
      "margin": null,
      "max_height": null,
      "max_width": null,
      "min_height": null,
      "min_width": null,
      "object_fit": null,
      "object_position": null,
      "order": null,
      "overflow": null,
      "overflow_x": null,
      "overflow_y": null,
      "padding": null,
      "right": null,
      "top": null,
      "visibility": null,
      "width": null
     }
    },
    "f1f87226430e408e83d215d7ddbf5395": {
     "model_module": "@jupyter-widgets/controls",
     "model_module_version": "1.5.0",
     "model_name": "ProgressStyleModel",
     "state": {
      "_model_module": "@jupyter-widgets/controls",
      "_model_module_version": "1.5.0",
      "_model_name": "ProgressStyleModel",
      "_view_count": null,
      "_view_module": "@jupyter-widgets/base",
      "_view_module_version": "1.2.0",
      "_view_name": "StyleView",
      "bar_color": null,
      "description_width": ""
     }
    },
    "f41b770cd9764cc186ff6e4c42bb8758": {
     "model_module": "@jupyter-widgets/controls",
     "model_module_version": "1.5.0",
     "model_name": "ProgressStyleModel",
     "state": {
      "_model_module": "@jupyter-widgets/controls",
      "_model_module_version": "1.5.0",
      "_model_name": "ProgressStyleModel",
      "_view_count": null,
      "_view_module": "@jupyter-widgets/base",
      "_view_module_version": "1.2.0",
      "_view_name": "StyleView",
      "bar_color": null,
      "description_width": ""
     }
    },
    "f4d7ef6a99e94640adfe36f6b05d0da3": {
     "model_module": "@jupyter-widgets/base",
     "model_module_version": "1.2.0",
     "model_name": "LayoutModel",
     "state": {
      "_model_module": "@jupyter-widgets/base",
      "_model_module_version": "1.2.0",
      "_model_name": "LayoutModel",
      "_view_count": null,
      "_view_module": "@jupyter-widgets/base",
      "_view_module_version": "1.2.0",
      "_view_name": "LayoutView",
      "align_content": null,
      "align_items": null,
      "align_self": null,
      "border": null,
      "bottom": null,
      "display": null,
      "flex": null,
      "flex_flow": null,
      "grid_area": null,
      "grid_auto_columns": null,
      "grid_auto_flow": null,
      "grid_auto_rows": null,
      "grid_column": null,
      "grid_gap": null,
      "grid_row": null,
      "grid_template_areas": null,
      "grid_template_columns": null,
      "grid_template_rows": null,
      "height": null,
      "justify_content": null,
      "justify_items": null,
      "left": null,
      "margin": null,
      "max_height": null,
      "max_width": null,
      "min_height": null,
      "min_width": null,
      "object_fit": null,
      "object_position": null,
      "order": null,
      "overflow": null,
      "overflow_x": null,
      "overflow_y": null,
      "padding": null,
      "right": null,
      "top": null,
      "visibility": null,
      "width": null
     }
    },
    "fe5d928c5c21485b9473729ef0b4616d": {
     "model_module": "@jupyter-widgets/base",
     "model_module_version": "1.2.0",
     "model_name": "LayoutModel",
     "state": {
      "_model_module": "@jupyter-widgets/base",
      "_model_module_version": "1.2.0",
      "_model_name": "LayoutModel",
      "_view_count": null,
      "_view_module": "@jupyter-widgets/base",
      "_view_module_version": "1.2.0",
      "_view_name": "LayoutView",
      "align_content": null,
      "align_items": null,
      "align_self": null,
      "border": null,
      "bottom": null,
      "display": null,
      "flex": null,
      "flex_flow": null,
      "grid_area": null,
      "grid_auto_columns": null,
      "grid_auto_flow": null,
      "grid_auto_rows": null,
      "grid_column": null,
      "grid_gap": null,
      "grid_row": null,
      "grid_template_areas": null,
      "grid_template_columns": null,
      "grid_template_rows": null,
      "height": null,
      "justify_content": null,
      "justify_items": null,
      "left": null,
      "margin": null,
      "max_height": null,
      "max_width": null,
      "min_height": null,
      "min_width": null,
      "object_fit": null,
      "object_position": null,
      "order": null,
      "overflow": null,
      "overflow_x": null,
      "overflow_y": null,
      "padding": null,
      "right": null,
      "top": null,
      "visibility": null,
      "width": null
     }
    }
   }
  }
 },
 "nbformat": 4,
 "nbformat_minor": 4
}
