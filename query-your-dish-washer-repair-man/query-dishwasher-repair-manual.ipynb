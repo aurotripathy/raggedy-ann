{
 "cells": [
  {
   "cell_type": "markdown",
   "metadata": {},
   "source": [
    "##### Quick Intro\n",
    "The dataset is scraped from https://www.appliancerepair.net/dishwasher-repair-1.html and follow-on pages.\n",
    "\n",
    "Update Oct 23, the page is no longer available, but the chunking is already done, so we're OK\n",
    "\n",
    "Scraper code is at scraper.py.\n",
    "\n",
    "The embeddings are generated using the [SentenceTransformer](https://www.sbert.net/) package (no finetuning)\n",
    "\n",
    "The overall flow is from \n",
    "https://github.com/openai/openai-cookbook/blob/main/examples/Question_answering_using_embeddings.ipynb\n",
    "\n",
    "The difference is, instead of using OpenAI Curie to create the embeddings, I create embeddings using SBERT and use cosine simialrity to retrieve relevant pieces of text.\n",
    "\n",
    "You'll need an OpenAI key"
   ]
  },
  {
   "cell_type": "code",
   "execution_count": 1,
   "metadata": {},
   "outputs": [
    {
     "name": "stdout",
     "output_type": "stream",
     "text": [
      "Note: you may need to restart the kernel to use updated packages.\n",
      "Note: you may need to restart the kernel to use updated packages.\n",
      "Looking in indexes: https://pypi.org/simple, https://pypi.ngc.nvidia.com\n",
      "Collecting sentence-transformers\n",
      "  Downloading sentence_transformers-3.2.1-py3-none-any.whl.metadata (10 kB)\n",
      "Collecting transformers<5.0.0,>=4.41.0 (from sentence-transformers)\n",
      "  Downloading transformers-4.45.2-py3-none-any.whl.metadata (44 kB)\n",
      "Requirement already satisfied: tqdm in /opt/vast-jupyter/lib/python3.10/site-packages (from sentence-transformers) (4.66.5)\n",
      "Requirement already satisfied: torch>=1.11.0 in /opt/vast-jupyter/lib/python3.10/site-packages (from sentence-transformers) (2.5.0)\n",
      "Requirement already satisfied: scikit-learn in /opt/vast-jupyter/lib/python3.10/site-packages (from sentence-transformers) (1.5.2)\n",
      "Requirement already satisfied: scipy in /opt/vast-jupyter/lib/python3.10/site-packages (from sentence-transformers) (1.14.1)\n",
      "Requirement already satisfied: huggingface-hub>=0.20.0 in /opt/vast-jupyter/lib/python3.10/site-packages (from sentence-transformers) (0.26.1)\n",
      "Requirement already satisfied: Pillow in /opt/vast-jupyter/lib/python3.10/site-packages (from sentence-transformers) (11.0.0)\n",
      "Requirement already satisfied: filelock in /opt/vast-jupyter/lib/python3.10/site-packages (from huggingface-hub>=0.20.0->sentence-transformers) (3.16.1)\n",
      "Requirement already satisfied: fsspec>=2023.5.0 in /opt/vast-jupyter/lib/python3.10/site-packages (from huggingface-hub>=0.20.0->sentence-transformers) (2024.10.0)\n",
      "Requirement already satisfied: packaging>=20.9 in /opt/vast-jupyter/lib/python3.10/site-packages (from huggingface-hub>=0.20.0->sentence-transformers) (24.1)\n",
      "Requirement already satisfied: pyyaml>=5.1 in /opt/vast-jupyter/lib/python3.10/site-packages (from huggingface-hub>=0.20.0->sentence-transformers) (6.0.2)\n",
      "Requirement already satisfied: requests in /opt/vast-jupyter/lib/python3.10/site-packages (from huggingface-hub>=0.20.0->sentence-transformers) (2.32.3)\n",
      "Requirement already satisfied: typing-extensions>=3.7.4.3 in /opt/vast-jupyter/lib/python3.10/site-packages (from huggingface-hub>=0.20.0->sentence-transformers) (4.12.2)\n",
      "Requirement already satisfied: networkx in /opt/vast-jupyter/lib/python3.10/site-packages (from torch>=1.11.0->sentence-transformers) (3.4.2)\n",
      "Requirement already satisfied: jinja2 in /opt/vast-jupyter/lib/python3.10/site-packages (from torch>=1.11.0->sentence-transformers) (3.1.4)\n",
      "Requirement already satisfied: nvidia-cuda-nvrtc-cu12==12.4.127 in /opt/vast-jupyter/lib/python3.10/site-packages (from torch>=1.11.0->sentence-transformers) (12.4.127)\n",
      "Requirement already satisfied: nvidia-cuda-runtime-cu12==12.4.127 in /opt/vast-jupyter/lib/python3.10/site-packages (from torch>=1.11.0->sentence-transformers) (12.4.127)\n",
      "Requirement already satisfied: nvidia-cuda-cupti-cu12==12.4.127 in /opt/vast-jupyter/lib/python3.10/site-packages (from torch>=1.11.0->sentence-transformers) (12.4.127)\n",
      "Requirement already satisfied: nvidia-cudnn-cu12==9.1.0.70 in /opt/vast-jupyter/lib/python3.10/site-packages (from torch>=1.11.0->sentence-transformers) (9.1.0.70)\n",
      "Requirement already satisfied: nvidia-cublas-cu12==12.4.5.8 in /opt/vast-jupyter/lib/python3.10/site-packages (from torch>=1.11.0->sentence-transformers) (12.4.5.8)\n",
      "Requirement already satisfied: nvidia-cufft-cu12==11.2.1.3 in /opt/vast-jupyter/lib/python3.10/site-packages (from torch>=1.11.0->sentence-transformers) (11.2.1.3)\n",
      "Requirement already satisfied: nvidia-curand-cu12==10.3.5.147 in /opt/vast-jupyter/lib/python3.10/site-packages (from torch>=1.11.0->sentence-transformers) (10.3.5.147)\n",
      "Requirement already satisfied: nvidia-cusolver-cu12==11.6.1.9 in /opt/vast-jupyter/lib/python3.10/site-packages (from torch>=1.11.0->sentence-transformers) (11.6.1.9)\n",
      "Requirement already satisfied: nvidia-cusparse-cu12==12.3.1.170 in /opt/vast-jupyter/lib/python3.10/site-packages (from torch>=1.11.0->sentence-transformers) (12.3.1.170)\n",
      "Requirement already satisfied: nvidia-nccl-cu12==2.21.5 in /opt/vast-jupyter/lib/python3.10/site-packages (from torch>=1.11.0->sentence-transformers) (2.21.5)\n",
      "Requirement already satisfied: nvidia-nvtx-cu12==12.4.127 in /opt/vast-jupyter/lib/python3.10/site-packages (from torch>=1.11.0->sentence-transformers) (12.4.127)\n",
      "Requirement already satisfied: nvidia-nvjitlink-cu12==12.4.127 in /opt/vast-jupyter/lib/python3.10/site-packages (from torch>=1.11.0->sentence-transformers) (12.4.127)\n",
      "Requirement already satisfied: triton==3.1.0 in /opt/vast-jupyter/lib/python3.10/site-packages (from torch>=1.11.0->sentence-transformers) (3.1.0)\n",
      "Requirement already satisfied: sympy==1.13.1 in /opt/vast-jupyter/lib/python3.10/site-packages (from torch>=1.11.0->sentence-transformers) (1.13.1)\n",
      "Requirement already satisfied: mpmath<1.4,>=1.1.0 in /opt/vast-jupyter/lib/python3.10/site-packages (from sympy==1.13.1->torch>=1.11.0->sentence-transformers) (1.3.0)\n",
      "Requirement already satisfied: numpy>=1.17 in /opt/vast-jupyter/lib/python3.10/site-packages (from transformers<5.0.0,>=4.41.0->sentence-transformers) (2.1.2)\n",
      "Requirement already satisfied: regex!=2019.12.17 in /opt/vast-jupyter/lib/python3.10/site-packages (from transformers<5.0.0,>=4.41.0->sentence-transformers) (2024.9.11)\n",
      "Requirement already satisfied: safetensors>=0.4.1 in /opt/vast-jupyter/lib/python3.10/site-packages (from transformers<5.0.0,>=4.41.0->sentence-transformers) (0.4.5)\n",
      "Collecting tokenizers<0.21,>=0.20 (from transformers<5.0.0,>=4.41.0->sentence-transformers)\n",
      "  Downloading tokenizers-0.20.1-cp310-cp310-manylinux_2_17_x86_64.manylinux2014_x86_64.whl.metadata (6.7 kB)\n",
      "Requirement already satisfied: joblib>=1.2.0 in /opt/vast-jupyter/lib/python3.10/site-packages (from scikit-learn->sentence-transformers) (1.4.2)\n",
      "Requirement already satisfied: threadpoolctl>=3.1.0 in /opt/vast-jupyter/lib/python3.10/site-packages (from scikit-learn->sentence-transformers) (3.5.0)\n",
      "Requirement already satisfied: MarkupSafe>=2.0 in /opt/vast-jupyter/lib/python3.10/site-packages (from jinja2->torch>=1.11.0->sentence-transformers) (3.0.2)\n",
      "Requirement already satisfied: charset-normalizer<4,>=2 in /opt/vast-jupyter/lib/python3.10/site-packages (from requests->huggingface-hub>=0.20.0->sentence-transformers) (3.4.0)\n",
      "Requirement already satisfied: idna<4,>=2.5 in /opt/vast-jupyter/lib/python3.10/site-packages (from requests->huggingface-hub>=0.20.0->sentence-transformers) (3.10)\n",
      "Requirement already satisfied: urllib3<3,>=1.21.1 in /opt/vast-jupyter/lib/python3.10/site-packages (from requests->huggingface-hub>=0.20.0->sentence-transformers) (2.2.3)\n",
      "Requirement already satisfied: certifi>=2017.4.17 in /opt/vast-jupyter/lib/python3.10/site-packages (from requests->huggingface-hub>=0.20.0->sentence-transformers) (2024.8.30)\n",
      "Downloading sentence_transformers-3.2.1-py3-none-any.whl (255 kB)\n",
      "Downloading transformers-4.45.2-py3-none-any.whl (9.9 MB)\n",
      "\u001b[2K   \u001b[90m━━━━━━━━━━━━━━━━━━━━━━━━━━━━━━━━━━━━━━━━\u001b[0m \u001b[32m9.9/9.9 MB\u001b[0m \u001b[31m265.7 MB/s\u001b[0m eta \u001b[36m0:00:00\u001b[0m\n",
      "\u001b[?25hDownloading tokenizers-0.20.1-cp310-cp310-manylinux_2_17_x86_64.manylinux2014_x86_64.whl (3.0 MB)\n",
      "\u001b[2K   \u001b[90m━━━━━━━━━━━━━━━━━━━━━━━━━━━━━━━━━━━━━━━━\u001b[0m \u001b[32m3.0/3.0 MB\u001b[0m \u001b[31m340.6 MB/s\u001b[0m eta \u001b[36m0:00:00\u001b[0m\n",
      "\u001b[?25hInstalling collected packages: tokenizers, transformers, sentence-transformers\n",
      "Successfully installed sentence-transformers-3.2.1 tokenizers-0.20.1 transformers-4.45.2\n",
      "Note: you may need to restart the kernel to use updated packages.\n"
     ]
    }
   ],
   "source": [
    "%pip install pandas -q\n",
    "%pip install openai -q\n",
    "%pip install getpass4\n",
    "%pip install sentence-transformers"
   ]
  },
  {
   "cell_type": "code",
   "execution_count": 4,
   "metadata": {},
   "outputs": [
    {
     "name": "stdout",
     "output_type": "stream",
     "text": [
      "openai api version: 1.52.2\n"
     ]
    }
   ],
   "source": [
    "import pandas as pd\n",
    "import openai\n",
    "import numpy as np\n",
    "import pickle\n",
    "from sentence_transformers import SentenceTransformer, util\n",
    "print(f'openai api version: {openai.__version__}')"
   ]
  },
  {
   "cell_type": "code",
   "execution_count": 5,
   "metadata": {},
   "outputs": [],
   "source": [
    "def get_embedding(text: str, model: SentenceTransformer) -> list[float]:\n",
    "    embeddings = model.encode([text])\n",
    "    return embeddings\n",
    "\n",
    "def get_doc_embedding(text: str, model: SentenceTransformer) -> list[float]:\n",
    "    return get_embedding(text, model)\n",
    "\n",
    "def get_query_embedding(text: str, model: SentenceTransformer) -> list[float]:\n",
    "    return get_embedding(text, model)\n",
    "\n",
    "def compute_doc_embeddings(df: pd.DataFrame, model: SentenceTransformer) -> dict[tuple[str, str], list[float]]:\n",
    "    \"\"\"\n",
    "    Create an embedding for each row in the dataframe.\n",
    "    Return a dictionary that maps between each embedding vector and the index of the row that it corresponds to.\n",
    "    \"\"\"\n",
    "    return {\n",
    "        idx: get_doc_embedding(r.content.replace(\"\\n\", \" \"), model) for idx, r in df.iterrows()\n",
    "    }\n",
    "\n",
    "def load_embeddings(fname: str) -> dict[tuple[str, str], list[float]]:\n",
    "    \"\"\"\n",
    "    Read the document embeddings and their keys from a CSV.\n",
    "    Again, we have hosted the embeddings for you so you don't have to re-calculate them from scratch.\n",
    "    \n",
    "    fname is the path to a CSV with exactly these named columns: \n",
    "        \"title\", \"heading\", \"0\", \"1\", ... up to the length of the embedding vectors.\n",
    "    \"\"\"\n",
    "    \n",
    "    df = pd.read_csv(fname, header=0)\n",
    "    max_dim = max([int(c) for c in df.columns if c != \"title\" and c != \"heading\"])\n",
    "    return {\n",
    "           (r.title, r.heading): [r[str(i)] for i in range(max_dim + 1)] for _, r in df.iterrows()\n",
    "    }\n"
   ]
  },
  {
   "cell_type": "code",
   "execution_count": 6,
   "metadata": {},
   "outputs": [
    {
     "name": "stdout",
     "output_type": "stream",
     "text": [
      "149 rows in the data.\n"
     ]
    },
    {
     "data": {
      "text/html": [
       "<div>\n",
       "<style scoped>\n",
       "    .dataframe tbody tr th:only-of-type {\n",
       "        vertical-align: middle;\n",
       "    }\n",
       "\n",
       "    .dataframe tbody tr th {\n",
       "        vertical-align: top;\n",
       "    }\n",
       "\n",
       "    .dataframe thead th {\n",
       "        text-align: right;\n",
       "    }\n",
       "</style>\n",
       "<table border=\"1\" class=\"dataframe\">\n",
       "  <thead>\n",
       "    <tr style=\"text-align: right;\">\n",
       "      <th></th>\n",
       "      <th></th>\n",
       "      <th>content</th>\n",
       "      <th>tokens</th>\n",
       "    </tr>\n",
       "    <tr>\n",
       "      <th>title</th>\n",
       "      <th>heading</th>\n",
       "      <th></th>\n",
       "      <th></th>\n",
       "    </tr>\n",
       "  </thead>\n",
       "  <tbody>\n",
       "    <tr>\n",
       "      <th>Chapter_5</th>\n",
       "      <th>273</th>\n",
       "      <td>Feel the action of the flapper valve. If it i...</td>\n",
       "      <td>96</td>\n",
       "    </tr>\n",
       "    <tr>\n",
       "      <th>Chapter_2</th>\n",
       "      <th>64</th>\n",
       "      <td>It's important to know that washing dishes in...</td>\n",
       "      <td>80</td>\n",
       "    </tr>\n",
       "    <tr>\n",
       "      <th>Chapter_5</th>\n",
       "      <th>331</th>\n",
       "      <td>The pump, motor and upper and lower spray arm...</td>\n",
       "      <td>104</td>\n",
       "    </tr>\n",
       "    <tr>\n",
       "      <th>Chapter_4</th>\n",
       "      <th>190</th>\n",
       "      <td>There are two general areas where you will co...</td>\n",
       "      <td>77</td>\n",
       "    </tr>\n",
       "    <tr>\n",
       "      <th>Chapter_3</th>\n",
       "      <th>163</th>\n",
       "      <td>CLOGGING OF THE DISHWASHER WATER SYSTEM: The ...</td>\n",
       "      <td>123</td>\n",
       "    </tr>\n",
       "    <tr>\n",
       "      <th>Chapter_5</th>\n",
       "      <th>279</th>\n",
       "      <td>Your appliance parts dealer has an impeller a...</td>\n",
       "      <td>90</td>\n",
       "    </tr>\n",
       "    <tr>\n",
       "      <th>Chapter_6</th>\n",
       "      <th>377</th>\n",
       "      <td>Since a burnt out bimetal element is the most...</td>\n",
       "      <td>194</td>\n",
       "    </tr>\n",
       "    <tr>\n",
       "      <th rowspan=\"2\" valign=\"top\">Chapter_5</th>\n",
       "      <th>284</th>\n",
       "      <td>There are two different impeller kits for two...</td>\n",
       "      <td>80</td>\n",
       "    </tr>\n",
       "    <tr>\n",
       "      <th>301</th>\n",
       "      <td>When you get the pump/motor unit back into pl...</td>\n",
       "      <td>80</td>\n",
       "    </tr>\n",
       "    <tr>\n",
       "      <th>Chapter_3</th>\n",
       "      <th>166</th>\n",
       "      <td>If you have a lime or hard water buildup clog...</td>\n",
       "      <td>135</td>\n",
       "    </tr>\n",
       "  </tbody>\n",
       "</table>\n",
       "</div>"
      ],
      "text/plain": [
       "                                                             content  tokens\n",
       "title     heading                                                           \n",
       "Chapter_5 273       Feel the action of the flapper valve. If it i...      96\n",
       "Chapter_2 64        It's important to know that washing dishes in...      80\n",
       "Chapter_5 331       The pump, motor and upper and lower spray arm...     104\n",
       "Chapter_4 190       There are two general areas where you will co...      77\n",
       "Chapter_3 163       CLOGGING OF THE DISHWASHER WATER SYSTEM: The ...     123\n",
       "Chapter_5 279       Your appliance parts dealer has an impeller a...      90\n",
       "Chapter_6 377       Since a burnt out bimetal element is the most...     194\n",
       "Chapter_5 284       There are two different impeller kits for two...      80\n",
       "          301       When you get the pump/motor unit back into pl...      80\n",
       "Chapter_3 166       If you have a lime or hard water buildup clog...     135"
      ]
     },
     "execution_count": 6,
     "metadata": {},
     "output_type": "execute_result"
    }
   ],
   "source": [
    "# The scraper generated the csv file below\n",
    "df = pd.read_csv('dish-washer-data.csv')\n",
    "df[\"tokens\"] = pd.to_numeric(df[\"tokens\"])  # convert column \"tokens\" of a DataFrame\n",
    "df = df.set_index([\"title\", \"heading\"])\n",
    "print(f\"{len(df)} rows in the data.\")\n",
    "df.sample(10)\n",
    "# TODO get some stats on max/min content length\n"
   ]
  },
  {
   "cell_type": "code",
   "execution_count": 7,
   "metadata": {},
   "outputs": [
    {
     "data": {
      "application/vnd.jupyter.widget-view+json": {
       "model_id": "72952f252b1f474081002fdb073b6566",
       "version_major": 2,
       "version_minor": 0
      },
      "text/plain": [
       "modules.json:   0%|          | 0.00/229 [00:00<?, ?B/s]"
      ]
     },
     "metadata": {},
     "output_type": "display_data"
    },
    {
     "data": {
      "application/vnd.jupyter.widget-view+json": {
       "model_id": "04d34256a9b24b86855de2816f0801a6",
       "version_major": 2,
       "version_minor": 0
      },
      "text/plain": [
       "config_sentence_transformers.json:   0%|          | 0.00/122 [00:00<?, ?B/s]"
      ]
     },
     "metadata": {},
     "output_type": "display_data"
    },
    {
     "data": {
      "application/vnd.jupyter.widget-view+json": {
       "model_id": "e3cc1b8d9d314164b3537386c8c259e2",
       "version_major": 2,
       "version_minor": 0
      },
      "text/plain": [
       "README.md:   0%|          | 0.00/3.75k [00:00<?, ?B/s]"
      ]
     },
     "metadata": {},
     "output_type": "display_data"
    },
    {
     "data": {
      "application/vnd.jupyter.widget-view+json": {
       "model_id": "cf1bb9d0af2b4e4a86f991fceb8a44af",
       "version_major": 2,
       "version_minor": 0
      },
      "text/plain": [
       "sentence_bert_config.json:   0%|          | 0.00/53.0 [00:00<?, ?B/s]"
      ]
     },
     "metadata": {},
     "output_type": "display_data"
    },
    {
     "data": {
      "application/vnd.jupyter.widget-view+json": {
       "model_id": "8b5393b8140b4e87a7c9536b6f30dab5",
       "version_major": 2,
       "version_minor": 0
      },
      "text/plain": [
       "config.json:   0%|          | 0.00/545 [00:00<?, ?B/s]"
      ]
     },
     "metadata": {},
     "output_type": "display_data"
    },
    {
     "data": {
      "application/vnd.jupyter.widget-view+json": {
       "model_id": "d21ed10c9ce94d4a94fc59f0ebd09114",
       "version_major": 2,
       "version_minor": 0
      },
      "text/plain": [
       "model.safetensors:   0%|          | 0.00/265M [00:00<?, ?B/s]"
      ]
     },
     "metadata": {},
     "output_type": "display_data"
    },
    {
     "data": {
      "application/vnd.jupyter.widget-view+json": {
       "model_id": "47eebcbf6e0d47578bb40b8f675e21a2",
       "version_major": 2,
       "version_minor": 0
      },
      "text/plain": [
       "tokenizer_config.json:   0%|          | 0.00/319 [00:00<?, ?B/s]"
      ]
     },
     "metadata": {},
     "output_type": "display_data"
    },
    {
     "data": {
      "application/vnd.jupyter.widget-view+json": {
       "model_id": "2d40b559470c4cfea50003b6c9c256b7",
       "version_major": 2,
       "version_minor": 0
      },
      "text/plain": [
       "vocab.txt:   0%|          | 0.00/232k [00:00<?, ?B/s]"
      ]
     },
     "metadata": {},
     "output_type": "display_data"
    },
    {
     "data": {
      "application/vnd.jupyter.widget-view+json": {
       "model_id": "b21264249dde485889dde0a880a4b723",
       "version_major": 2,
       "version_minor": 0
      },
      "text/plain": [
       "tokenizer.json:   0%|          | 0.00/466k [00:00<?, ?B/s]"
      ]
     },
     "metadata": {},
     "output_type": "display_data"
    },
    {
     "data": {
      "application/vnd.jupyter.widget-view+json": {
       "model_id": "b1ba958af26e4d1eae7877c8f054711c",
       "version_major": 2,
       "version_minor": 0
      },
      "text/plain": [
       "special_tokens_map.json:   0%|          | 0.00/112 [00:00<?, ?B/s]"
      ]
     },
     "metadata": {},
     "output_type": "display_data"
    },
    {
     "data": {
      "application/vnd.jupyter.widget-view+json": {
       "model_id": "71614afc78924bb6a809cc5cfbb14bb9",
       "version_major": 2,
       "version_minor": 0
      },
      "text/plain": [
       "1_Pooling/config.json:   0%|          | 0.00/190 [00:00<?, ?B/s]"
      ]
     },
     "metadata": {},
     "output_type": "display_data"
    },
    {
     "name": "stdout",
     "output_type": "stream",
     "text": [
      "Default sequence length:512\n"
     ]
    }
   ],
   "source": [
    "\n",
    "embeddings_model_path = 'msmarco-distilbert-base-v4'\n",
    "embeddings_model = SentenceTransformer(embeddings_model_path)\n",
    "print(f'Default sequence length:{embeddings_model.max_seq_length}')\n"
   ]
  },
  {
   "cell_type": "code",
   "execution_count": 8,
   "metadata": {},
   "outputs": [],
   "source": [
    "# This could take a bit of time\n",
    "document_embeddings = compute_doc_embeddings(df, embeddings_model)\n",
    "\n",
    "# An example embedding:\n",
    "example_entry = list(document_embeddings.items())[0]\n",
    "# print(example_entry)\n"
   ]
  },
  {
   "cell_type": "code",
   "execution_count": 9,
   "metadata": {},
   "outputs": [
    {
     "name": "stdout",
     "output_type": "stream",
     "text": [
      "Total documents, 149\n"
     ]
    }
   ],
   "source": [
    "print(f'Total documents, {len(document_embeddings)}')"
   ]
  },
  {
   "cell_type": "code",
   "execution_count": 10,
   "metadata": {},
   "outputs": [],
   "source": [
    "def vector_similarity(x: list[float], y: list[float]) -> float:\n",
    "    \"\"\"\n",
    "    We use cosine similarity \n",
    "    \"\"\"\n",
    "    return util.cos_sim(x,y)\n",
    "\n",
    "def order_document_sections_by_query_similarity(query: str, contexts: dict[(str, str), np.array], model: SentenceTransformer) -> list[(float, (str, str))]:\n",
    "    \"\"\"\n",
    "    Find the query embedding for the supplied query, and compare it against all of the pre-calculated document embeddings\n",
    "    to find the most relevant sections. \n",
    "    \n",
    "    Return the list of document sections, sorted by relevance in descending order.\n",
    "    \"\"\"\n",
    "    query_embedding = get_query_embedding(query, model)\n",
    "    \n",
    "    document_similarities = sorted([\n",
    "        (vector_similarity(query_embedding, doc_embedding), doc_index) for doc_index, doc_embedding in contexts.items()\n",
    "    ], reverse=True)\n",
    "    \n",
    "    return document_similarities\n",
    "\n"
   ]
  },
  {
   "cell_type": "code",
   "execution_count": 11,
   "metadata": {},
   "outputs": [
    {
     "name": "stdout",
     "output_type": "stream",
     "text": [
      "index: ('Chapter_4', 190) [0]:   There are two general areas where you will commonly find water leaking from a dishwasher. The first is from around the door; water will generally show up on the kitchen floor in front of the dishwasher. The second is from some component under the tub. The most common sources are pump seals and water valves, though it really can come from just about anything else under there, such as heater mounts, float switches, dryer fans, hoses, etc.\n",
      "index: ('Chapter_2', 81) [1]:   POOR WASH QUALITY: This is the most common complaint in a dishwasher. It covers a lot of different specific symptoms, from spotting, film or etching of the dishes to food left on dishes. It is discussed in detail in Chapter 3. NO POWER; MOTOR WON'T START: First check the house breaker or fuse. Next, make sure that the dishwasher is plugged into the correct wall socket. (See the note in section 5-2 for an explanation)\n",
      "index: ('Chapter_4', 191) [2]:   A slow, under-tub leak may go years without being detected. Often the tile or linoleum in front of the dishwasher is slightly raised, and water does not flow uphill. A slow leak beneath the tub can rot a wooden floor or cabinetry. It can also cause odors, mildew, etc. Often the first sign you might see is water leaking under the cabinetry and into the space beneath the kitchen sink.\n",
      "index: ('Chapter_3', 145) [3]:   NOTE: This Chapter assumes that the motor is running and you hear water whooshing around inside the machine! If not, go back to chapter 2 and troubleshoot ! Poor wash quality mainly involves heavy spotting and filming or etching of the dishes. It can usually be traced to cold water or excessively hot, hard or soft water, poor detergent, or inadequate drying. Washing dishes in a dishwasher is not just a matter of blowing hot water at them. It is not just simply a mechanical or hydraulic process. It is also a chemical process. The chemicals you use in your dishwasher, from detergent to rinse agent, are extremely critical. And the temperature of the water that dissolves and carries these chemicals is critical as well.\n",
      "index: ('Chapter_1', 2) [4]:   The main reason dishwashers exist is that they allow dishes to be washed in water much hotter than you can use when washing dishes by hand. This allows greater grease-cutting and sterilization of the dishes. They are NOT made to operate under cold water conditions or to ingest your disgusting, moldy leftovers, no matter what the sales literature says. And using cheap soap and hard water (without making some adjustments) can shorten their lives considerably.\n"
     ]
    }
   ],
   "source": [
    "# ask a question and get top_k relevant text\n",
    "top_k = 5\n",
    "by_semantic_relevance = order_document_sections_by_query_similarity(\"Why is my dishwasher leaking?\", document_embeddings, embeddings_model)[:top_k]\n",
    "for i in range(top_k):\n",
    "    index = by_semantic_relevance[i][1]  # index\n",
    "    print(f\"index: {index} {[i]}:  {df.loc[index]['content']}\")\n"
   ]
  },
  {
   "cell_type": "code",
   "execution_count": 12,
   "metadata": {},
   "outputs": [
    {
     "name": "stdout",
     "output_type": "stream",
     "text": [
      "[0]  NOTE: This Chapter assumes that the motor is running and you hear water whooshing around inside the machine! If not, go back to chapter 2 and troubleshoot ! Poor wash quality mainly involves heavy spotting and filming or etching of the dishes. It can usually be traced to cold water or excessively hot, hard or soft water, poor detergent, or inadequate drying. Washing dishes in a dishwasher is not just a matter of blowing hot water at them. It is not just simply a mechanical or hydraulic process. It is also a chemical process. The chemicals you use in your dishwasher, from detergent to rinse agent, are extremely critical. And the temperature of the water that dissolves and carries these chemicals is critical as well.\n",
      "[1]  POOR WASH QUALITY: This is the most common complaint in a dishwasher. It covers a lot of different specific symptoms, from spotting, film or etching of the dishes to food left on dishes. It is discussed in detail in Chapter 3. NO POWER; MOTOR WON'T START: First check the house breaker or fuse. Next, make sure that the dishwasher is plugged into the correct wall socket. (See the note in section 5-2 for an explanation)\n",
      "[2]  The main reason dishwashers exist is that they allow dishes to be washed in water much hotter than you can use when washing dishes by hand. This allows greater grease-cutting and sterilization of the dishes. They are NOT made to operate under cold water conditions or to ingest your disgusting, moldy leftovers, no matter what the sales literature says. And using cheap soap and hard water (without making some adjustments) can shorten their lives considerably.\n",
      "[3]  DRYER BLOWER INOPERATIVE: Excessive spotting may mean the dryer blower or heater is not working. Test the motor or heater as described in section 6-2(d) and (g) and replace if defective. IMPROPER LOADING: Loading the dishwasher improperly can cause all sorts of problems, from blockage of the waterspray to dish or pump damage. Make sure the dishes are loaded properly as described in section 2-2, preventive maintenance. There are certain types of dishes that you should NOT wash in your dishwasher under any circumstances. For example, certain kinds of \"darkening\" in fine silverware is normal, and does not indicate a problem with your dishwasher. Other things to watch out for:\n",
      "[4]  It's important to know that washing dishes in a dishwasher is not just a matter of blowing hot water at them. It is not just simply a mechanical or hydraulic process. It is also a chemical process. The chemicals you use, from detergent to rinse agent, are extremely critical. I recommend you use the following stuff regularly: 1) Use dry (powder) Cascade\"â¢. The real stuff. Do not use liquid detergent. And especially do not use regular liquid dishsoap.\n"
     ]
    }
   ],
   "source": [
    "# ask another question\n",
    "top_k = 5\n",
    "by_semantic_relevance = order_document_sections_by_query_similarity(\"Why is my dish washer not cleaning well?\", document_embeddings, embeddings_model)[:top_k]\n",
    "for i in range(top_k):\n",
    "    index = by_semantic_relevance[i][1]  # [0] similarity [1]index\n",
    "    print(f\"{[i]} {df.loc[index]['content']}\")"
   ]
  },
  {
   "cell_type": "code",
   "execution_count": 13,
   "metadata": {},
   "outputs": [
    {
     "data": {
      "application/vnd.jupyter.widget-view+json": {
       "model_id": "12f9bdd9522243adba0b71b8c3cb4e80",
       "version_major": 2,
       "version_minor": 0
      },
      "text/plain": [
       "tokenizer_config.json:   0%|          | 0.00/26.0 [00:00<?, ?B/s]"
      ]
     },
     "metadata": {},
     "output_type": "display_data"
    },
    {
     "data": {
      "application/vnd.jupyter.widget-view+json": {
       "model_id": "7149f19aecf446379abd64d650d45efa",
       "version_major": 2,
       "version_minor": 0
      },
      "text/plain": [
       "vocab.json:   0%|          | 0.00/1.04M [00:00<?, ?B/s]"
      ]
     },
     "metadata": {},
     "output_type": "display_data"
    },
    {
     "data": {
      "application/vnd.jupyter.widget-view+json": {
       "model_id": "da7926c6f0814dec8a70ffc6e67ea34c",
       "version_major": 2,
       "version_minor": 0
      },
      "text/plain": [
       "merges.txt:   0%|          | 0.00/456k [00:00<?, ?B/s]"
      ]
     },
     "metadata": {},
     "output_type": "display_data"
    },
    {
     "data": {
      "application/vnd.jupyter.widget-view+json": {
       "model_id": "24ba552b33a941e898f97455da3d930c",
       "version_major": 2,
       "version_minor": 0
      },
      "text/plain": [
       "tokenizer.json:   0%|          | 0.00/1.36M [00:00<?, ?B/s]"
      ]
     },
     "metadata": {},
     "output_type": "display_data"
    },
    {
     "data": {
      "application/vnd.jupyter.widget-view+json": {
       "model_id": "15f6c452d00741a589513d6f3d9fdad6",
       "version_major": 2,
       "version_minor": 0
      },
      "text/plain": [
       "config.json:   0%|          | 0.00/665 [00:00<?, ?B/s]"
      ]
     },
     "metadata": {},
     "output_type": "display_data"
    },
    {
     "data": {
      "text/plain": [
       "'Context separator contains 3 tokens'"
      ]
     },
     "execution_count": 13,
     "metadata": {},
     "output_type": "execute_result"
    }
   ],
   "source": [
    "# TODO what is this?\n",
    "from transformers import GPT2TokenizerFast\n",
    "MAX_SECTION_LEN = 500\n",
    "SEPARATOR = \"\\n* \"\n",
    "\n",
    "tokenizer = GPT2TokenizerFast.from_pretrained(\"gpt2\")\n",
    "separator_len = len(tokenizer.tokenize(SEPARATOR))\n",
    "\n",
    "f\"Context separator contains {separator_len} tokens\""
   ]
  },
  {
   "cell_type": "code",
   "execution_count": 14,
   "metadata": {},
   "outputs": [],
   "source": [
    "def construct_prompt(question: str, context_embeddings: dict, df: pd.DataFrame, embeddings_model: SentenceTransformer) -> str:\n",
    "    \"\"\"\n",
    "    Fetch relevant \n",
    "    \"\"\"\n",
    "    most_relevant_document_sections = order_document_sections_by_query_similarity(question, context_embeddings, embeddings_model)\n",
    "    \n",
    "    chosen_sections = []\n",
    "    chosen_sections_len = 0\n",
    "    chosen_sections_indexes = []\n",
    "     \n",
    "    for _, section_index in most_relevant_document_sections:\n",
    "        \n",
    "        # Add contexts until we run out of space.        \n",
    "        document_section = df.loc[section_index]\n",
    "\n",
    "        chosen_sections_len += document_section.tokens + separator_len\n",
    "        if chosen_sections_len > MAX_SECTION_LEN:\n",
    "            # print(f'Enough context---run out of length of {MAX_SECTION_LEN}')\n",
    "            break\n",
    "            \n",
    "        chosen_sections.append(SEPARATOR + document_section['content'].replace(\"\\n\", \" \"))\n",
    "        chosen_sections_indexes.append(str(section_index))\n",
    "            \n",
    "    # Useful diagnostic information\n",
    "    # print(f\"Selected {len(chosen_sections)} document sections:\")\n",
    "    # print(\"\\n\".join(chosen_sections_indexes))\n",
    "    \n",
    "    # The context\n",
    "    header = \"\"\"Answer the question as truthfully as possible using the provided context, and if the answer is not contained within the text below, say \"I don't know.\"\\n\\nContext:\\n\"\"\"\n",
    "    return header + \"\".join(chosen_sections) + \"\\n\\n Q: \" + question + \"\\n A:\""
   ]
  },
  {
   "cell_type": "code",
   "execution_count": 13,
   "metadata": {},
   "outputs": [
    {
     "name": "stdout",
     "output_type": "stream",
     "text": [
      "===\n",
      " Answer the question as truthfully as possible using the provided context, and if the answer is not contained within the text below, say \"I don't know.\"\n",
      "\n",
      "Context:\n",
      "\n",
      "*  There are two general areas where you will commonly find water leaking from a dishwasher. The first is from around the door; water will generally show up on the kitchen floor in front of the dishwasher. The second is from some component under the tub. The most common sources are pump seals and water valves, though it really can come from just about anything else under there, such as heater mounts, float switches, dryer fans, hoses, etc.\n",
      "*  POOR WASH QUALITY: This is the most common complaint in a dishwasher. It covers a lot of different specific symptoms, from spotting, film or etching of the dishes to food left on dishes. It is discussed in detail in Chapter 3. NO POWER; MOTOR WON'T START: First check the house breaker or fuse. Next, make sure that the dishwasher is plugged into the correct wall socket. (See the note in section 5-2 for an explanation)\n",
      "*  A slow, under-tub leak may go years without being detected. Often the tile or linoleum in front of the dishwasher is slightly raised, and water does not flow uphill. A slow leak beneath the tub can rot a wooden floor or cabinetry. It can also cause odors, mildew, etc. Often the first sign you might see is water leaking under the cabinetry and into the space beneath the kitchen sink.\n",
      "*  A third source of water \"leakage\" (though it really isn't a leak) is from the air gap. The air gap is an anti-backflow device installed in the drain line, to prevent the dishwasher from accidentally siphoning fluid from your house's sewer line back into the dishwasher tub. If this air gap or the house's drain line becomes clogged, water can run out of the air vent, and generally it runs straight into your sink. Note, however, that this will only occur when the dishwasher is operating in the \"pumpout\" mode, trying to drain the tub. There is an illustration and discussion of the air gap in section 3-1.\n",
      "*  DRYER BLOWER INOPERATIVE: Excessive spotting may mean the dryer blower or heater is not working. Test the motor or heater as described in section 6-2(d) and (g) and replace if defective. IMPROPER LOADING: Loading the dishwasher improperly can cause all sorts of problems, from blockage of the waterspray to dish or pump damage. Make sure the dishes are loaded properly as described in section 2-2, preventive maintenance. There are certain types of dishes that you should NOT wash in your dishwasher under any circumstances. For example, certain kinds of \"darkening\" in fine silverware is normal, and does not indicate a problem with your dishwasher. Other things to watch out for:\n",
      "\n",
      " Q: Why is my dish wasker leaking?\n",
      " A:\n"
     ]
    }
   ],
   "source": [
    "# Try out the prompt\n",
    "prompt = construct_prompt(\n",
    "    \"Why is my dish wasker leaking?\",\n",
    "    document_embeddings,\n",
    "    df,\n",
    "    embeddings_model\n",
    ")\n",
    "\n",
    "print(\"===\\n\", prompt)"
   ]
  },
  {
   "cell_type": "code",
   "execution_count": 15,
   "metadata": {},
   "outputs": [],
   "source": [
    "\n",
    "COMPLETIONS_MODEL = \"gpt-4o\"\n",
    "COMPLETIONS_API_PARAMS = {\n",
    "    # We use temperature of 0.0 because it gives the most predictable, factual answer.\n",
    "    \"temperature\": 0.0,\n",
    "    \"max_tokens\": 200,\n",
    "    \"model\": COMPLETIONS_MODEL,\n",
    "}"
   ]
  },
  {
   "cell_type": "markdown",
   "metadata": {},
   "source": [
    "### Answering the question from a context"
   ]
  },
  {
   "cell_type": "code",
   "execution_count": 25,
   "metadata": {},
   "outputs": [
    {
     "name": "stdin",
     "output_type": "stream",
     "text": [
      "Enter OpenAI API key ········\n"
     ]
    }
   ],
   "source": [
    "import os\n",
    "import getpass\n",
    "from openai import OpenAI\n",
    "OPENAI_API_KEY = getpass.getpass(\"Enter OpenAI API key\")\n",
    "os.environ['OPENAI_API_KEY'] = OPENAI_API_KEY\n",
    "# print(os.environ.get(\"OPENAI_API_KEY\"))\n",
    "client = OpenAI()"
   ]
  },
  {
   "cell_type": "code",
   "execution_count": 28,
   "metadata": {},
   "outputs": [],
   "source": [
    "\n",
    "def answer_query_from_context(\n",
    "    query: str,\n",
    "    df: pd.DataFrame,\n",
    "    document_embeddings: dict[(str, str), np.array],\n",
    "    show_prompt: bool = False\n",
    ") -> str:\n",
    "    prompt = construct_prompt(\n",
    "        query,\n",
    "        document_embeddings,\n",
    "        df,\n",
    "        embeddings_model\n",
    "    )\n",
    "    \n",
    "    if show_prompt:\n",
    "        print(prompt)\n",
    "\n",
    "    response =client.chat.completions.create(\n",
    "                model=COMPLETIONS_MODEL,\n",
    "                prompt=prompt,\n",
    "                **COMPLETIONS_API_PARAMS\n",
    "            )\n",
    "\n",
    "    return response[\"choices\"][0][\"text\"].strip(\" \\n\")\n",
    "\n"
   ]
  },
  {
   "cell_type": "code",
   "execution_count": 29,
   "metadata": {},
   "outputs": [
    {
     "name": "stdout",
     "output_type": "stream",
     "text": [
      "Answer the question as truthfully as possible using the provided context, and if the answer is not contained within the text below, say \"I don't know.\"\n",
      "\n",
      "Context:\n",
      "\n",
      "*  A third source of water \"leakage\" (though it really isn't a leak) is from the air gap. The air gap is an anti-backflow device installed in the drain line, to prevent the dishwasher from accidentally siphoning fluid from your house's sewer line back into the dishwasher tub. If this air gap or the house's drain line becomes clogged, water can run out of the air vent, and generally it runs straight into your sink. Note, however, that this will only occur when the dishwasher is operating in the \"pumpout\" mode, trying to drain the tub. There is an illustration and discussion of the air gap in section 3-1.\n",
      "*  AIR GAP: There is also an anti-siphon device, called an air gap, built into the drain line. It is required by law in most installations. It prevents accidental backflow (siphoning) into the dishwasher from the house drain lines. A typical air gap re-directs water 180 degrees, and thus it has constrictions that can easily trap a chunk of food trying to pass through it. Symptoms are the same as for any other blockage of the drain line, except that you may also see water flowing out of the air gap vents directly into the sink.\n",
      "*  There are two general areas where you will commonly find water leaking from a dishwasher. The first is from around the door; water will generally show up on the kitchen floor in front of the dishwasher. The second is from some component under the tub. The most common sources are pump seals and water valves, though it really can come from just about anything else under there, such as heater mounts, float switches, dryer fans, hoses, etc.\n",
      "*  Pump seal leaks will show up as water dripping from the motor or pump housing. (Or from the pump pulley in Maytag machines.) It may also get slung around a bit from a rotating pump shaft. The solution is to rebuild the pump. In some designs, you pull the whole motor and pump unit and replace it with a new or rebuilt unit. See Chapter 5 for details. On rare occasions, the leak will be coming from the sealing washers around tub heater mounts, dryer blower gaskets, or other small tub penetrations. You need to replace the gasket or seal. Drain or recirculation hoses have been known to get old and brittle and crack open. Replace the hose.\n",
      "\n",
      " Q: What are the ways to prevent water leakage?\n",
      " A:\n"
     ]
    },
    {
     "ename": "TypeError",
     "evalue": "Missing required arguments; Expected either ('messages' and 'model') or ('messages', 'model' and 'stream') arguments to be given",
     "output_type": "error",
     "traceback": [
      "\u001b[0;31m---------------------------------------------------------------------------\u001b[0m",
      "\u001b[0;31mTypeError\u001b[0m                                 Traceback (most recent call last)",
      "Cell \u001b[0;32mIn[29], line 5\u001b[0m\n\u001b[1;32m      1\u001b[0m \u001b[38;5;66;03m# response = answer_query_with_context(\"Who won the 2020 Summer Olympics men's high jump?\", df, document_embeddings)\u001b[39;00m\n\u001b[1;32m      2\u001b[0m \u001b[38;5;28;01mfrom\u001b[39;00m \u001b[38;5;21;01mscipy\u001b[39;00m\u001b[38;5;21;01m.\u001b[39;00m\u001b[38;5;21;01m__config__\u001b[39;00m \u001b[38;5;28;01mimport\u001b[39;00m show\n\u001b[0;32m----> 5\u001b[0m response \u001b[38;5;241m=\u001b[39m \u001b[43manswer_query_from_context\u001b[49m\u001b[43m(\u001b[49m\u001b[38;5;124;43m\"\u001b[39;49m\u001b[38;5;124;43mWhat are the ways to prevent water leakage?\u001b[39;49m\u001b[38;5;124;43m\"\u001b[39;49m\u001b[43m,\u001b[49m\u001b[43m \u001b[49m\u001b[43mdf\u001b[49m\u001b[43m,\u001b[49m\u001b[43m \u001b[49m\u001b[43mdocument_embeddings\u001b[49m\u001b[43m,\u001b[49m\u001b[43m \u001b[49m\u001b[43mshow_prompt\u001b[49m\u001b[38;5;241;43m=\u001b[39;49m\u001b[38;5;28;43;01mTrue\u001b[39;49;00m\u001b[43m)\u001b[49m\n\u001b[1;32m      7\u001b[0m answer \u001b[38;5;241m=\u001b[39m response[\u001b[38;5;241m0\u001b[39m:\u001b[38;5;28mlen\u001b[39m(response) \u001b[38;5;241m+\u001b[39m \u001b[38;5;241m1\u001b[39m]\u001b[38;5;241m.\u001b[39msplit(\u001b[38;5;124m'\u001b[39m\u001b[38;5;124mA:\u001b[39m\u001b[38;5;124m'\u001b[39m)[\u001b[38;5;241m-\u001b[39m\u001b[38;5;241m1\u001b[39m]\u001b[38;5;241m.\u001b[39mstrip()\n\u001b[1;32m      9\u001b[0m \u001b[38;5;28mprint\u001b[39m(\u001b[38;5;124mf\u001b[39m\u001b[38;5;124m'\u001b[39m\u001b[38;5;124m====Answer\u001b[39m\u001b[38;5;130;01m\\n\u001b[39;00m\u001b[38;5;124m\"\u001b[39m\u001b[38;5;124m \u001b[39m\u001b[38;5;132;01m{\u001b[39;00manswer\u001b[38;5;132;01m}\u001b[39;00m\u001b[38;5;124m'\u001b[39m)\n",
      "Cell \u001b[0;32mIn[28], line 17\u001b[0m, in \u001b[0;36manswer_query_from_context\u001b[0;34m(query, df, document_embeddings, show_prompt)\u001b[0m\n\u001b[1;32m     14\u001b[0m \u001b[38;5;28;01mif\u001b[39;00m show_prompt:\n\u001b[1;32m     15\u001b[0m     \u001b[38;5;28mprint\u001b[39m(prompt)\n\u001b[0;32m---> 17\u001b[0m response \u001b[38;5;241m=\u001b[39m\u001b[43mclient\u001b[49m\u001b[38;5;241;43m.\u001b[39;49m\u001b[43mchat\u001b[49m\u001b[38;5;241;43m.\u001b[39;49m\u001b[43mcompletions\u001b[49m\u001b[38;5;241;43m.\u001b[39;49m\u001b[43mcreate\u001b[49m\u001b[43m(\u001b[49m\n\u001b[1;32m     18\u001b[0m \u001b[43m            \u001b[49m\u001b[43mprompt\u001b[49m\u001b[38;5;241;43m=\u001b[39;49m\u001b[43mprompt\u001b[49m\u001b[43m,\u001b[49m\n\u001b[1;32m     19\u001b[0m \u001b[43m            \u001b[49m\u001b[38;5;241;43m*\u001b[39;49m\u001b[38;5;241;43m*\u001b[39;49m\u001b[43mCOMPLETIONS_API_PARAMS\u001b[49m\n\u001b[1;32m     20\u001b[0m \u001b[43m        \u001b[49m\u001b[43m)\u001b[49m\n\u001b[1;32m     22\u001b[0m \u001b[38;5;28;01mreturn\u001b[39;00m response[\u001b[38;5;124m\"\u001b[39m\u001b[38;5;124mchoices\u001b[39m\u001b[38;5;124m\"\u001b[39m][\u001b[38;5;241m0\u001b[39m][\u001b[38;5;124m\"\u001b[39m\u001b[38;5;124mtext\u001b[39m\u001b[38;5;124m\"\u001b[39m]\u001b[38;5;241m.\u001b[39mstrip(\u001b[38;5;124m\"\u001b[39m\u001b[38;5;124m \u001b[39m\u001b[38;5;130;01m\\n\u001b[39;00m\u001b[38;5;124m\"\u001b[39m)\n",
      "File \u001b[0;32m/opt/vast-jupyter/lib/python3.10/site-packages/openai/_utils/_utils.py:273\u001b[0m, in \u001b[0;36mrequired_args.<locals>.inner.<locals>.wrapper\u001b[0;34m(*args, **kwargs)\u001b[0m\n\u001b[1;32m    271\u001b[0m         \u001b[38;5;28;01melse\u001b[39;00m:\n\u001b[1;32m    272\u001b[0m             msg \u001b[38;5;241m=\u001b[39m \u001b[38;5;124mf\u001b[39m\u001b[38;5;124m\"\u001b[39m\u001b[38;5;124mMissing required argument: \u001b[39m\u001b[38;5;132;01m{\u001b[39;00mquote(missing[\u001b[38;5;241m0\u001b[39m])\u001b[38;5;132;01m}\u001b[39;00m\u001b[38;5;124m\"\u001b[39m\n\u001b[0;32m--> 273\u001b[0m     \u001b[38;5;28;01mraise\u001b[39;00m \u001b[38;5;167;01mTypeError\u001b[39;00m(msg)\n\u001b[1;32m    274\u001b[0m \u001b[38;5;28;01mreturn\u001b[39;00m func(\u001b[38;5;241m*\u001b[39margs, \u001b[38;5;241m*\u001b[39m\u001b[38;5;241m*\u001b[39mkwargs)\n",
      "\u001b[0;31mTypeError\u001b[0m: Missing required arguments; Expected either ('messages' and 'model') or ('messages', 'model' and 'stream') arguments to be given"
     ]
    }
   ],
   "source": [
    "# response = answer_query_with_context(\"Who won the 2020 Summer Olympics men's high jump?\", df, document_embeddings)\n",
    "from scipy.__config__ import show\n",
    "\n",
    "\n",
    "response = answer_query_from_context(\"What are the ways to prevent water leakage?\", df, document_embeddings, show_prompt=True)\n",
    "\n",
    "answer = response[0:len(response) + 1].split('A:')[-1].strip()\n",
    "\n",
    "print(f'====Answer\\n\" {answer}')"
   ]
  },
  {
   "cell_type": "code",
   "execution_count": 18,
   "metadata": {},
   "outputs": [
    {
     "name": "stdout",
     "output_type": "stream",
     "text": [
      "Answer the question as truthfully as possible using the provided context, and if the answer is not contained within the text below, say \"I don't know.\"\n",
      "\n",
      "Context:\n",
      "\n",
      "*  Sometimes you can eliminate possibilities just simply be studying the wiring diagram for a few minutes. For example, let's say your timer is not advancing during any cycle. Following the gray line in figure 6-C, the timer is fed through three different circuits. Sometimes it gets its power through timer switch 22, sometimes it gets power from switch \"D\" inside the pushbutton selector switch, and it can also get power from the thermostat. It is unlikely that all three switches are bad, so the likelihood is that the timer motor itself is on the fritz.\n",
      "*  You should see continuity make and break at least once in the cycle; usually several times. If it doesn't, the internal contacts are bad; replace the timer. Repeat the process with the test leads between the W-V and the O-BK terminals. You can drive yourself crazy trying to figure out just exactly when during the cycle the switch is supposed to open and close. Leave that to the design engineers. Just satisfy yourself that the switch is, indeed, opening and closing at some time during the cycle.\n",
      "*  STARTING DRAIN CYCLE: Cold water can kill your wash quality. (see Chapter 3) So before letting any hot water into the tub, we must make sure the tub has no cold water left in it from the last wash. Therefore, in most designs, a new wash cycle starts with the pump operating for a minute or so in the \"drain\" mode. FILL CYCLE: An electric solenoid fill valve then opens to let hot water into the tub. The timer controls how long the solenoid valve stays open, which controls the water level. A flow-control washer built into the valve compensates for variations in the water supply pressure.\n",
      "*  TIMER DIAGNOSIS: If the timer drive motor is not advancing only in certain cycles, there may be a switch or thermostat that feeds it that is bad. See the example in section 6-1 and figure 6-C. If the timer is not advancing in all cycles, well, that's pretty obvious. Replace the timer or timer drive motor, or have it rebuilt as described below. Timers can be difficult to diagnose. The easiest way is to go through everything else in the system that's malfunctioning. If none of the other components are bad, then it may be the timer.\n",
      "*  Most designs use an anti-flood float switch to prevent accidental overflow during the fill cycle. WASH CYCLE: The pump then starts in the \"wash\" mode. Water is channelled to the spray arms which spray the hot water at the dishes. In some models, detergent is dispensed during the wash cycle. The timer controls when this occurs. In most designs, the dispenser is opened either by a solenoid or by a bi-metallic trigger. GE uses a cam on the timer to trip open the dispenser.\n",
      "\n",
      " Q: Explain the various cycles?\n",
      " A:\n",
      "====Answer\n",
      " There are four cycles- starting drain, fill, wash, and timer diagnosis. In the starting drain cycle, the pump operates for a minute or so in the \"drain\" mode. In the fill cycle, an electric solenoid fill valve opens to let hot water into the tub. The timer controls how long the solenoid valve stays open, which controls the water level. In the wash cycle, the pump then starts in the \"wash\" mode. Water is channelled to the spray arms which spray the hot water at the dishes. In some models, detergent is dispensed during the wash cycle. The timer controls when this occurs. Finally, in the timer diagnosis cycle, if the timer drive motor is not advancing only in certain cycles, there may be a switch or thermostat that feeds it that is bad.\n"
     ]
    }
   ],
   "source": [
    "response = answer_query_from_context(\"Explain the various cycles?\", df, document_embeddings, show_prompt=True)\n",
    "\n",
    "answer = response[0:len(response) + 1].split('A:')[-1].strip()\n",
    "\n",
    "print(f'====Answer\\n {answer}')"
   ]
  },
  {
   "cell_type": "code",
   "execution_count": 19,
   "metadata": {},
   "outputs": [
    {
     "name": "stdout",
     "output_type": "stream",
     "text": [
      "Answer the question as truthfully as possible using the provided context, and if the answer is not contained within the text below, say \"I don't know.\"\n",
      "\n",
      "Context:\n",
      "\n",
      "*  There are two general areas where you will commonly find water leaking from a dishwasher. The first is from around the door; water will generally show up on the kitchen floor in front of the dishwasher. The second is from some component under the tub. The most common sources are pump seals and water valves, though it really can come from just about anything else under there, such as heater mounts, float switches, dryer fans, hoses, etc.\n",
      "*  POOR WASH QUALITY: This is the most common complaint in a dishwasher. It covers a lot of different specific symptoms, from spotting, film or etching of the dishes to food left on dishes. It is discussed in detail in Chapter 3. NO POWER; MOTOR WON'T START: First check the house breaker or fuse. Next, make sure that the dishwasher is plugged into the correct wall socket. (See the note in section 5-2 for an explanation)\n",
      "*  A slow, under-tub leak may go years without being detected. Often the tile or linoleum in front of the dishwasher is slightly raised, and water does not flow uphill. A slow leak beneath the tub can rot a wooden floor or cabinetry. It can also cause odors, mildew, etc. Often the first sign you might see is water leaking under the cabinetry and into the space beneath the kitchen sink.\n",
      "*  NOTE: This Chapter assumes that the motor is running and you hear water whooshing around inside the machine! If not, go back to chapter 2 and troubleshoot ! Poor wash quality mainly involves heavy spotting and filming or etching of the dishes. It can usually be traced to cold water or excessively hot, hard or soft water, poor detergent, or inadequate drying. Washing dishes in a dishwasher is not just a matter of blowing hot water at them. It is not just simply a mechanical or hydraulic process. It is also a chemical process. The chemicals you use in your dishwasher, from detergent to rinse agent, are extremely critical. And the temperature of the water that dissolves and carries these chemicals is critical as well.\n",
      "*  The main reason dishwashers exist is that they allow dishes to be washed in water much hotter than you can use when washing dishes by hand. This allows greater grease-cutting and sterilization of the dishes. They are NOT made to operate under cold water conditions or to ingest your disgusting, moldy leftovers, no matter what the sales literature says. And using cheap soap and hard water (without making some adjustments) can shorten their lives considerably.\n",
      "\n",
      " Q: Why is my dishwasher leaking?\n",
      " A:\n",
      "====Answer\n",
      "\" There are two general areas where you will commonly find water leaking from a dishwasher. The first is from around the door; water will generally show up on the kitchen floor in front of the dishwasher. The second is from some component under the tub. The most common sources are pump seals and water valves, though it really can come from just about anything else under there, such as heater mounts, float switches, dryer fans, hoses, etc.\n"
     ]
    }
   ],
   "source": [
    "\n",
    "response = answer_query_from_context(\"Why is my dishwasher leaking?\", df, document_embeddings, show_prompt=True)\n",
    "\n",
    "answer = response[0:len(response) + 1].split('A:')[-1].strip()\n",
    "\n",
    "print(f'====Answer\\n\" {answer}')"
   ]
  },
  {
   "cell_type": "code",
   "execution_count": 20,
   "metadata": {},
   "outputs": [
    {
     "name": "stdout",
     "output_type": "stream",
     "text": [
      "Answer the question as truthfully as possible using the provided context, and if the answer is not contained within the text below, say \"I don't know.\"\n",
      "\n",
      "Context:\n",
      "\n",
      "*  Many household handymen will tackle just about any job, but are downright scared of electricity. It's true that you have to be extra careful around live circuits due to the danger of getting shocked. But there's no mystery or voodoo about what we'll be doing. I'll cut out most of the electric theory for you. If you're one of those folks who's a bit timid around electricity, all I can say is read on, and don't be too nervous. It will come to you.\n",
      "*  The solution is to replace the defective motor or switch. If it's the timer, you may be able to get a rebuilt one to save a few bucks. WATER LEAKING ONTO FLOOR: If water is coming out the front of the machine, it's usually leaky door seals, but there are a few other suspects. The wrong soap can cause suds, which can leak out even if the seals are good. There are also some designs which can develop a water jet that blows water past the door seal; this is discussed in Chapter 4. Check for these problems first. If you still suspect the door seal, try cleaning any accumulated detergent or other gunk from it. If you need to replace the seals, your parts dealer has a door seal kit. See Chapter 4 for a more in-depth discussion of these and other possible leak sources.\n",
      "*  obvious on any black plastic parts inside. This is primarily calcium. It can make plastic parts brittle and cause abrasion in moving parts, as well as spotting or filming on the dishes themselves. In extreme cases of hard-water build-up, run 1/2 cup of white vinegar through a single rinse-and-drain cycle, without any dishes in the machine. These are pretty specific product endorsements for me to make without getting paid to make them, don't you think? To be totally honest, there are other chemicals which may be \"good enough.\" But why bother? The \"good stuff\" only costs a few pennies more, and furthermore, it can be found in just about any grocery store in the nation.\n",
      "*  It seems like everyone I know has a different opinion about their dishwasher. Some seem to think that theirs is a Godsend and a lifesaver; others think it's a total waste of time, hot water and electricity. Truth is, everybody's right! Within their limitations, dishwashers can provide virtually sterile dishes, if that's what you need. Poorly used and poorly maintained, they can be a huge, inefficient pain in the neck.\n",
      "\n",
      " Q: What's the biggest thing to worry about?\n",
      " A:\n",
      "====Answer\n",
      "\" The biggest thing to worry about is getting shocked.\n"
     ]
    }
   ],
   "source": [
    "response = answer_query_from_context(\"What's the biggest thing to worry about?\", df, document_embeddings, show_prompt=True)\n",
    "\n",
    "answer = response[0:len(response) + 1].split('A:')[-1].strip()\n",
    "\n",
    "print(f'====Answer\\n\" {answer}')"
   ]
  },
  {
   "cell_type": "code",
   "execution_count": 23,
   "metadata": {},
   "outputs": [
    {
     "name": "stdout",
     "output_type": "stream",
     "text": [
      "Answer the question as truthfully as possible using the provided context, and if the answer is not contained within the text below, say \"I don't know.\"\n",
      "\n",
      "Context:\n",
      "\n",
      "*  There are two general areas where you will commonly find water leaking from a dishwasher. The first is from around the door; water will generally show up on the kitchen floor in front of the dishwasher. The second is from some component under the tub. The most common sources are pump seals and water valves, though it really can come from just about anything else under there, such as heater mounts, float switches, dryer fans, hoses, etc.\n",
      "*  A third source of water \"leakage\" (though it really isn't a leak) is from the air gap. The air gap is an anti-backflow device installed in the drain line, to prevent the dishwasher from accidentally siphoning fluid from your house's sewer line back into the dishwasher tub. If this air gap or the house's drain line becomes clogged, water can run out of the air vent, and generally it runs straight into your sink. Note, however, that this will only occur when the dishwasher is operating in the \"pumpout\" mode, trying to drain the tub. There is an illustration and discussion of the air gap in section 3-1.\n",
      "*  A slow, under-tub leak may go years without being detected. Often the tile or linoleum in front of the dishwasher is slightly raised, and water does not flow uphill. A slow leak beneath the tub can rot a wooden floor or cabinetry. It can also cause odors, mildew, etc. Often the first sign you might see is water leaking under the cabinetry and into the space beneath the kitchen sink.\n",
      "*  Pump seal leaks will show up as water dripping from the motor or pump housing. (Or from the pump pulley in Maytag machines.) It may also get slung around a bit from a rotating pump shaft. The solution is to rebuild the pump. In some designs, you pull the whole motor and pump unit and replace it with a new or rebuilt unit. See Chapter 5 for details. On rare occasions, the leak will be coming from the sealing washers around tub heater mounts, dryer blower gaskets, or other small tub penetrations. You need to replace the gasket or seal. Drain or recirculation hoses have been known to get old and brittle and crack open. Replace the hose.\n",
      "*  If water is coming from beneath the machine, it is usually coming from pump seals, but it could also be coming from a hose or from the fill or drain solenoid valve. Remove the kickplate and operate the machine while looking beneath it. Try to isolate the leak by watching where the water drips on the floor. Remember that there are live wires under there; don't stick your hands in there while the machine is plugged in. Diagnose and repair as described in chapters 4 or 5.\n",
      "\n",
      " Q: What are the sources of water leaks?\n",
      " A:\n",
      "====Answer\n",
      "\" The sources of water leaks are from around the door, from some component under the tub, and from the air gap.\n"
     ]
    }
   ],
   "source": [
    "response = answer_query_from_context(\"What are the sources of water leaks?\", df, document_embeddings, show_prompt=True)\n",
    "\n",
    "answer = response[0:len(response) + 1].split('A:')[-1].strip()\n",
    "\n",
    "print(f'====Answer\\n\" {answer}')"
   ]
  },
  {
   "cell_type": "code",
   "execution_count": 22,
   "metadata": {},
   "outputs": [
    {
     "name": "stdout",
     "output_type": "stream",
     "text": [
      "Answer the question as truthfully as possible using the provided context, and if the answer is not contained within the text below, say \"I don't know.\"\n",
      "\n",
      "Context:\n",
      "\n",
      "*  If they genuinely try to help you fix it yourself, and you find that you're unable to, they may be the best place to look for service. Here's a hot tip: after what I just said, if they sold you this book, then I'll just about guarantee they're genuinely interested in helping do-it-yourselfers. When you go into the store, have ready the make, model and serial number from the nameplate of the dishwasher.\n",
      "*  Find yourself a good appliance parts dealer. You can find them in the yellow pages under the following headings: â¢ Appliances, Household, Major â¢ Appliances, Parts and Supplies â¢ Dishwashers, Domestic â¢ Appliances, Household, Repair and Service Call a few of them and ask if they are a dishwasher repair service, or if they sell parts, or both. Ask them if they offer free advice with the parts they sell (Occasionally, stores that offer both parts and service will not want to give you advice.) Often the parts counter men are ex-technicians who got tired of the pressures of in-home service. They can be your best friends. However, you don't want to badger them with too many questions, so know your basics before you start asking questions.\n",
      "*  Some parts houses may offer service, too. Be careful! There may be a conflict of interest. They may try to talk you out of even trying to fix your own dishwasher. They'll tell you it's too complicated, then in the same breath \"guide\" you to their service department. Who are you gonna believe, me or them? Not all service and parts places are this way, however. If you observe such buildup, periodically put about 1/4 to 1/2 cup of \"Lime-Away\"â¢ or Citric Acid (usually available at drugstores) in the machine and run it through a wash cycle, with or without dishes. Repeat as often as necessary.\n",
      "*  Your appliance parts dealer has an impeller and seal kit for these machines. OLDER MODELS: The pump is disassembled in place, without removing the motor.: Once the pump has been disassembled, the motor can be removed with the machine in place, but it can be a difficult job. The screws are hard to get to. Try it, but if you have too much trouble, pull out the machine. TECH TIPS: These are pretty straightforward machines to tear down and rebuild. Note carefully how everything comes off and in what order.\n",
      "\n",
      " Q: Tell me a bit about the warranty\n",
      " A:\n",
      "====Answer\n",
      "\" I don't know.\n"
     ]
    }
   ],
   "source": [
    "response = answer_query_from_context(\"Tell me a bit about the warranty\", df, document_embeddings, show_prompt=True)\n",
    "\n",
    "answer = response[0:len(response) + 1].split('A:')[-1].strip()\n",
    "\n",
    "print(f'====Answer\\n\" {answer}')"
   ]
  }
 ],
 "metadata": {
  "kernelspec": {
   "display_name": "Python 3 (ipykernel)",
   "language": "python",
   "name": "python3"
  },
  "language_info": {
   "codemirror_mode": {
    "name": "ipython",
    "version": 3
   },
   "file_extension": ".py",
   "mimetype": "text/x-python",
   "name": "python",
   "nbconvert_exporter": "python",
   "pygments_lexer": "ipython3",
   "version": "3.10.12"
  },
  "vscode": {
   "interpreter": {
    "hash": "3c5ba64e8a2a59a6be0dd5b8a0149005a96dade111bc9e6b7c5d65266a44d405"
   }
  }
 },
 "nbformat": 4,
 "nbformat_minor": 4
}
